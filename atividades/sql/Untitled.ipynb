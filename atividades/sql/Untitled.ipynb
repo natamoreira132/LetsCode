{
 "cells": [
  {
   "cell_type": "markdown",
   "id": "d3ee697f",
   "metadata": {},
   "source": [
    "# exercício"
   ]
  },
  {
   "cell_type": "markdown",
   "id": "72af5df0",
   "metadata": {},
   "source": [
    "### Q1\n",
    "Selecione os id's únicos de territórios da tabela employee_territories."
   ]
  },
  {
   "cell_type": "code",
   "execution_count": null,
   "id": "4e7a12cc",
   "metadata": {},
   "outputs": [],
   "source": []
  }
 ],
 "metadata": {
  "kernelspec": {
   "display_name": "Python 3",
   "language": "python",
   "name": "python3"
  },
  "language_info": {
   "codemirror_mode": {
    "name": "ipython",
    "version": 3
   },
   "file_extension": ".py",
   "mimetype": "text/x-python",
   "name": "python",
   "nbconvert_exporter": "python",
   "pygments_lexer": "ipython3",
   "version": "3.8.8"
  }
 },
 "nbformat": 4,
 "nbformat_minor": 5
}
