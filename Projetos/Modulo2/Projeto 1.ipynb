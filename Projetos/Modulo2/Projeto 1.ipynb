{
 "cells": [
  {
   "cell_type": "markdown",
   "id": "5ca9b70d",
   "metadata": {},
   "source": [
    "## 1 - Carregar os arquivos de cadastro, investimento1 e investimento2, e mostrar a quantidade de linhas de cada um, além das informações desses dataframes (por exemplo, o tipo dos dados das coluna)"
   ]
  },
  {
   "cell_type": "code",
   "execution_count": 1,
   "id": "cc67b7f7",
   "metadata": {},
   "outputs": [
    {
     "data": {
      "text/plain": [
       "(38754, 9)"
      ]
     },
     "execution_count": 1,
     "metadata": {},
     "output_type": "execute_result"
    }
   ],
   "source": [
    "import pandas as pd\n",
    "\n",
    "cadastro= pd.read_csv('https://raw.githubusercontent.com/renatapink/DSdegree/master/Modulo2/Mini_projeto1/cadastro.csv')\n",
    "cadastro.shape"
   ]
  },
  {
   "cell_type": "code",
   "execution_count": 2,
   "id": "5b0574d8",
   "metadata": {},
   "outputs": [
    {
     "data": {
      "text/plain": [
       "Index(['id', 'Nome', 'Sexo', 'Nasc', 'Idade', 'Email', 'Lat_long', 'Job',\n",
       "       'Estado'],\n",
       "      dtype='object')"
      ]
     },
     "execution_count": 2,
     "metadata": {},
     "output_type": "execute_result"
    }
   ],
   "source": [
    "cadastro.columns"
   ]
  },
  {
   "cell_type": "code",
   "execution_count": 3,
   "id": "ab4d3c26",
   "metadata": {},
   "outputs": [
    {
     "data": {
      "text/plain": [
       "(20000, 12)"
      ]
     },
     "execution_count": 3,
     "metadata": {},
     "output_type": "execute_result"
    }
   ],
   "source": [
    "investimento1= pd.read_csv('https://raw.githubusercontent.com/renatapink/DSdegree/master/Modulo2/Mini_projeto1/investimento_parte1.csv')\n",
    "investimento1.shape"
   ]
  },
  {
   "cell_type": "code",
   "execution_count": 4,
   "id": "22bc77a3",
   "metadata": {},
   "outputs": [
    {
     "data": {
      "text/plain": [
       "Index(['id', 'Salario', 'Perfil', 'Ativo01', 'Ativo02', 'Ativo03', 'Ativo04',\n",
       "       'Ativo05', 'Ativo06', 'Ativo07', 'Nota1', 'Nota2'],\n",
       "      dtype='object')"
      ]
     },
     "execution_count": 4,
     "metadata": {},
     "output_type": "execute_result"
    }
   ],
   "source": [
    "investimento1.columns"
   ]
  },
  {
   "cell_type": "code",
   "execution_count": 5,
   "id": "ef76378d",
   "metadata": {},
   "outputs": [
    {
     "data": {
      "text/plain": [
       "(24052, 12)"
      ]
     },
     "execution_count": 5,
     "metadata": {},
     "output_type": "execute_result"
    }
   ],
   "source": [
    "investimento2= pd.read_csv('https://raw.githubusercontent.com/renatapink/DSdegree/master/Modulo2/Mini_projeto1/investimento_parte2.csv')\n",
    "investimento2.shape"
   ]
  },
  {
   "cell_type": "code",
   "execution_count": 6,
   "id": "585ed00c",
   "metadata": {},
   "outputs": [
    {
     "data": {
      "text/plain": [
       "Index(['id', 'Salario', 'Perfil', 'Ativo01', 'Ativo02', 'Ativo03', 'Ativo04',\n",
       "       'Ativo05', 'Ativo06', 'Ativo07', 'Nota1', 'Nota2'],\n",
       "      dtype='object')"
      ]
     },
     "execution_count": 6,
     "metadata": {},
     "output_type": "execute_result"
    }
   ],
   "source": [
    "investimento2.columns"
   ]
  },
  {
   "cell_type": "markdown",
   "id": "47b35519",
   "metadata": {},
   "source": [
    "## 2 - Juntar os dataframes de investimento1 e investimento2 em um só e ver a quantidade de linhas"
   ]
  },
  {
   "cell_type": "code",
   "execution_count": 7,
   "id": "8c6551aa",
   "metadata": {},
   "outputs": [
    {
     "data": {
      "text/plain": [
       "(44052, 12)"
      ]
     },
     "execution_count": 7,
     "metadata": {},
     "output_type": "execute_result"
    }
   ],
   "source": [
    "investimento= pd.concat([investimento1, investimento2])\n",
    "investimento.shape"
   ]
  },
  {
   "cell_type": "markdown",
   "id": "aa1f0061",
   "metadata": {},
   "source": [
    "## 3 - Crie um novo dataframe eliminando as linhas duplicadas do item anterior"
   ]
  },
  {
   "cell_type": "code",
   "execution_count": 8,
   "id": "e824871d",
   "metadata": {},
   "outputs": [],
   "source": [
    "investimento= investimento.drop_duplicates()"
   ]
  },
  {
   "cell_type": "code",
   "execution_count": 9,
   "id": "165a6293",
   "metadata": {},
   "outputs": [
    {
     "data": {
      "text/html": [
       "<div>\n",
       "<style scoped>\n",
       "    .dataframe tbody tr th:only-of-type {\n",
       "        vertical-align: middle;\n",
       "    }\n",
       "\n",
       "    .dataframe tbody tr th {\n",
       "        vertical-align: top;\n",
       "    }\n",
       "\n",
       "    .dataframe thead th {\n",
       "        text-align: right;\n",
       "    }\n",
       "</style>\n",
       "<table border=\"1\" class=\"dataframe\">\n",
       "  <thead>\n",
       "    <tr style=\"text-align: right;\">\n",
       "      <th></th>\n",
       "      <th>id</th>\n",
       "      <th>Salario</th>\n",
       "      <th>Perfil</th>\n",
       "      <th>Ativo01</th>\n",
       "      <th>Ativo02</th>\n",
       "      <th>Ativo03</th>\n",
       "      <th>Ativo04</th>\n",
       "      <th>Ativo05</th>\n",
       "      <th>Ativo06</th>\n",
       "      <th>Ativo07</th>\n",
       "      <th>Nota1</th>\n",
       "      <th>Nota2</th>\n",
       "    </tr>\n",
       "  </thead>\n",
       "  <tbody>\n",
       "    <tr>\n",
       "      <th>0</th>\n",
       "      <td>id0011529</td>\n",
       "      <td>$2.25</td>\n",
       "      <td>Agressivo</td>\n",
       "      <td>1311.38</td>\n",
       "      <td>NaN</td>\n",
       "      <td>NaN</td>\n",
       "      <td>29267.48</td>\n",
       "      <td>4993.30</td>\n",
       "      <td>NaN</td>\n",
       "      <td>506.40</td>\n",
       "      <td>73.007216</td>\n",
       "      <td>30.025005</td>\n",
       "    </tr>\n",
       "    <tr>\n",
       "      <th>1</th>\n",
       "      <td>id0030644</td>\n",
       "      <td>$24.57</td>\n",
       "      <td>Agressivo</td>\n",
       "      <td>1007.38</td>\n",
       "      <td>4846.66</td>\n",
       "      <td>2717.82</td>\n",
       "      <td>12532.15</td>\n",
       "      <td>4282.98</td>\n",
       "      <td>NaN</td>\n",
       "      <td>499.93</td>\n",
       "      <td>20.000123</td>\n",
       "      <td>29.477728</td>\n",
       "    </tr>\n",
       "    <tr>\n",
       "      <th>2</th>\n",
       "      <td>id0019311</td>\n",
       "      <td>$367.53</td>\n",
       "      <td>Moderado</td>\n",
       "      <td>1128.99</td>\n",
       "      <td>4668.94</td>\n",
       "      <td>3092.60</td>\n",
       "      <td>9777.77</td>\n",
       "      <td>4246.30</td>\n",
       "      <td>2007.83</td>\n",
       "      <td>509.50</td>\n",
       "      <td>24.901450</td>\n",
       "      <td>49.659852</td>\n",
       "    </tr>\n",
       "    <tr>\n",
       "      <th>3</th>\n",
       "      <td>id0036705</td>\n",
       "      <td>$23.26</td>\n",
       "      <td>Moderado</td>\n",
       "      <td>1185.26</td>\n",
       "      <td>4782.17</td>\n",
       "      <td>2669.05</td>\n",
       "      <td>14047.87</td>\n",
       "      <td>6026.84</td>\n",
       "      <td>2064.09</td>\n",
       "      <td>489.82</td>\n",
       "      <td>14.246718</td>\n",
       "      <td>29.271206</td>\n",
       "    </tr>\n",
       "    <tr>\n",
       "      <th>4</th>\n",
       "      <td>id0001368</td>\n",
       "      <td>$6.31</td>\n",
       "      <td>Conservador</td>\n",
       "      <td>957.64</td>\n",
       "      <td>5585.52</td>\n",
       "      <td>NaN</td>\n",
       "      <td>5067.08</td>\n",
       "      <td>4030.51</td>\n",
       "      <td>2022.61</td>\n",
       "      <td>507.39</td>\n",
       "      <td>5.922253</td>\n",
       "      <td>11.840601</td>\n",
       "    </tr>\n",
       "    <tr>\n",
       "      <th>...</th>\n",
       "      <td>...</td>\n",
       "      <td>...</td>\n",
       "      <td>...</td>\n",
       "      <td>...</td>\n",
       "      <td>...</td>\n",
       "      <td>...</td>\n",
       "      <td>...</td>\n",
       "      <td>...</td>\n",
       "      <td>...</td>\n",
       "      <td>...</td>\n",
       "      <td>...</td>\n",
       "      <td>...</td>\n",
       "    </tr>\n",
       "    <tr>\n",
       "      <th>24046</th>\n",
       "      <td>id0012328</td>\n",
       "      <td>$86268.66</td>\n",
       "      <td>Moderado</td>\n",
       "      <td>804.92</td>\n",
       "      <td>4520.13</td>\n",
       "      <td>3388.55</td>\n",
       "      <td>18396.16</td>\n",
       "      <td>NaN</td>\n",
       "      <td>NaN</td>\n",
       "      <td>504.90</td>\n",
       "      <td>97.685833</td>\n",
       "      <td>70.195608</td>\n",
       "    </tr>\n",
       "    <tr>\n",
       "      <th>24048</th>\n",
       "      <td>id0005515</td>\n",
       "      <td>$212.76</td>\n",
       "      <td>Conservador</td>\n",
       "      <td>1624.80</td>\n",
       "      <td>NaN</td>\n",
       "      <td>2689.68</td>\n",
       "      <td>21886.01</td>\n",
       "      <td>4571.79</td>\n",
       "      <td>NaN</td>\n",
       "      <td>497.47</td>\n",
       "      <td>93.032164</td>\n",
       "      <td>93.621515</td>\n",
       "    </tr>\n",
       "    <tr>\n",
       "      <th>24049</th>\n",
       "      <td>id0009893</td>\n",
       "      <td>$9.32</td>\n",
       "      <td>Agressivo</td>\n",
       "      <td>829.20</td>\n",
       "      <td>NaN</td>\n",
       "      <td>3831.45</td>\n",
       "      <td>NaN</td>\n",
       "      <td>4784.34</td>\n",
       "      <td>2143.79</td>\n",
       "      <td>485.33</td>\n",
       "      <td>3.120521</td>\n",
       "      <td>9.086454</td>\n",
       "    </tr>\n",
       "    <tr>\n",
       "      <th>24050</th>\n",
       "      <td>id0016100</td>\n",
       "      <td>$81796.74</td>\n",
       "      <td>Conservador</td>\n",
       "      <td>1587.47</td>\n",
       "      <td>4881.66</td>\n",
       "      <td>4352.03</td>\n",
       "      <td>10391.18</td>\n",
       "      <td>4695.44</td>\n",
       "      <td>2465.65</td>\n",
       "      <td>492.84</td>\n",
       "      <td>95.665966</td>\n",
       "      <td>30.164927</td>\n",
       "    </tr>\n",
       "    <tr>\n",
       "      <th>24051</th>\n",
       "      <td>id0027880</td>\n",
       "      <td>$38480.37</td>\n",
       "      <td>Agressivo</td>\n",
       "      <td>996.90</td>\n",
       "      <td>5604.43</td>\n",
       "      <td>2801.04</td>\n",
       "      <td>9183.62</td>\n",
       "      <td>6220.96</td>\n",
       "      <td>NaN</td>\n",
       "      <td>503.24</td>\n",
       "      <td>55.035639</td>\n",
       "      <td>57.691996</td>\n",
       "    </tr>\n",
       "  </tbody>\n",
       "</table>\n",
       "<p>38754 rows × 12 columns</p>\n",
       "</div>"
      ],
      "text/plain": [
       "              id    Salario       Perfil  Ativo01  Ativo02  Ativo03   Ativo04  \\\n",
       "0      id0011529      $2.25    Agressivo  1311.38      NaN      NaN  29267.48   \n",
       "1      id0030644     $24.57    Agressivo  1007.38  4846.66  2717.82  12532.15   \n",
       "2      id0019311    $367.53     Moderado  1128.99  4668.94  3092.60   9777.77   \n",
       "3      id0036705     $23.26     Moderado  1185.26  4782.17  2669.05  14047.87   \n",
       "4      id0001368      $6.31  Conservador   957.64  5585.52      NaN   5067.08   \n",
       "...          ...        ...          ...      ...      ...      ...       ...   \n",
       "24046  id0012328  $86268.66     Moderado   804.92  4520.13  3388.55  18396.16   \n",
       "24048  id0005515    $212.76  Conservador  1624.80      NaN  2689.68  21886.01   \n",
       "24049  id0009893      $9.32    Agressivo   829.20      NaN  3831.45       NaN   \n",
       "24050  id0016100  $81796.74  Conservador  1587.47  4881.66  4352.03  10391.18   \n",
       "24051  id0027880  $38480.37    Agressivo   996.90  5604.43  2801.04   9183.62   \n",
       "\n",
       "       Ativo05  Ativo06  Ativo07      Nota1      Nota2  \n",
       "0      4993.30      NaN   506.40  73.007216  30.025005  \n",
       "1      4282.98      NaN   499.93  20.000123  29.477728  \n",
       "2      4246.30  2007.83   509.50  24.901450  49.659852  \n",
       "3      6026.84  2064.09   489.82  14.246718  29.271206  \n",
       "4      4030.51  2022.61   507.39   5.922253  11.840601  \n",
       "...        ...      ...      ...        ...        ...  \n",
       "24046      NaN      NaN   504.90  97.685833  70.195608  \n",
       "24048  4571.79      NaN   497.47  93.032164  93.621515  \n",
       "24049  4784.34  2143.79   485.33   3.120521   9.086454  \n",
       "24050  4695.44  2465.65   492.84  95.665966  30.164927  \n",
       "24051  6220.96      NaN   503.24  55.035639  57.691996  \n",
       "\n",
       "[38754 rows x 12 columns]"
      ]
     },
     "execution_count": 9,
     "metadata": {},
     "output_type": "execute_result"
    }
   ],
   "source": [
    "investimento"
   ]
  },
  {
   "cell_type": "markdown",
   "id": "0711def1",
   "metadata": {},
   "source": [
    "## 4 - Junte o dataframe de investimento com o de cadastro, criando um novo dataframe¶"
   ]
  },
  {
   "cell_type": "code",
   "execution_count": 10,
   "id": "1dd27ba3",
   "metadata": {},
   "outputs": [],
   "source": [
    "df_novo= pd.merge(cadastro,investimento, on='id', how='left')"
   ]
  },
  {
   "cell_type": "code",
   "execution_count": 11,
   "id": "f058c8e5",
   "metadata": {},
   "outputs": [
    {
     "data": {
      "text/html": [
       "<div>\n",
       "<style scoped>\n",
       "    .dataframe tbody tr th:only-of-type {\n",
       "        vertical-align: middle;\n",
       "    }\n",
       "\n",
       "    .dataframe tbody tr th {\n",
       "        vertical-align: top;\n",
       "    }\n",
       "\n",
       "    .dataframe thead th {\n",
       "        text-align: right;\n",
       "    }\n",
       "</style>\n",
       "<table border=\"1\" class=\"dataframe\">\n",
       "  <thead>\n",
       "    <tr style=\"text-align: right;\">\n",
       "      <th></th>\n",
       "      <th>id</th>\n",
       "      <th>Nome</th>\n",
       "      <th>Sexo</th>\n",
       "      <th>Nasc</th>\n",
       "      <th>Idade</th>\n",
       "      <th>Email</th>\n",
       "      <th>Lat_long</th>\n",
       "      <th>Job</th>\n",
       "      <th>Estado</th>\n",
       "      <th>Salario</th>\n",
       "      <th>Perfil</th>\n",
       "      <th>Ativo01</th>\n",
       "      <th>Ativo02</th>\n",
       "      <th>Ativo03</th>\n",
       "      <th>Ativo04</th>\n",
       "      <th>Ativo05</th>\n",
       "      <th>Ativo06</th>\n",
       "      <th>Ativo07</th>\n",
       "      <th>Nota1</th>\n",
       "      <th>Nota2</th>\n",
       "    </tr>\n",
       "  </thead>\n",
       "  <tbody>\n",
       "    <tr>\n",
       "      <th>0</th>\n",
       "      <td>id0000001</td>\n",
       "      <td>Eunice Hellen do Vale</td>\n",
       "      <td>Fem</td>\n",
       "      <td>1970-11-12</td>\n",
       "      <td>51</td>\n",
       "      <td>djones@yahoo.com</td>\n",
       "      <td>(Decimal('24.7024355'), Decimal('-28.038258'))</td>\n",
       "      <td>Technical author</td>\n",
       "      <td>TO</td>\n",
       "      <td>$63.67</td>\n",
       "      <td>Moderado</td>\n",
       "      <td>1174.27</td>\n",
       "      <td>4980.98</td>\n",
       "      <td>2638.24</td>\n",
       "      <td>NaN</td>\n",
       "      <td>4480.91</td>\n",
       "      <td>2329.72</td>\n",
       "      <td>480.72</td>\n",
       "      <td>79.600372</td>\n",
       "      <td>9.802620</td>\n",
       "    </tr>\n",
       "    <tr>\n",
       "      <th>1</th>\n",
       "      <td>id0000002</td>\n",
       "      <td>Sebastião Castelo Branco Júnior</td>\n",
       "      <td>Masc</td>\n",
       "      <td>2019-12-10</td>\n",
       "      <td>2</td>\n",
       "      <td>barnesandrea@yahoo.com</td>\n",
       "      <td>(Decimal('21.8589875'), Decimal('122.830566'))</td>\n",
       "      <td>Biochemist, clinical</td>\n",
       "      <td>DF</td>\n",
       "      <td>$21.96</td>\n",
       "      <td>Moderado</td>\n",
       "      <td>842.12</td>\n",
       "      <td>5646.09</td>\n",
       "      <td>3336.07</td>\n",
       "      <td>NaN</td>\n",
       "      <td>5624.22</td>\n",
       "      <td>2669.98</td>\n",
       "      <td>504.17</td>\n",
       "      <td>44.406893</td>\n",
       "      <td>90.512871</td>\n",
       "    </tr>\n",
       "    <tr>\n",
       "      <th>2</th>\n",
       "      <td>id0000003</td>\n",
       "      <td>Romildo Fábio de Carvalho</td>\n",
       "      <td>Masc</td>\n",
       "      <td>2015-12-28</td>\n",
       "      <td>6</td>\n",
       "      <td>walkermichael@yahoo.com</td>\n",
       "      <td>(Decimal('-28.2161525'), Decimal('97.140529'))</td>\n",
       "      <td>Development worker, international aid</td>\n",
       "      <td>DF</td>\n",
       "      <td>$62497.64</td>\n",
       "      <td>Agressivo</td>\n",
       "      <td>818.81</td>\n",
       "      <td>5516.52</td>\n",
       "      <td>3396.64</td>\n",
       "      <td>NaN</td>\n",
       "      <td>5033.83</td>\n",
       "      <td>2229.45</td>\n",
       "      <td>523.12</td>\n",
       "      <td>44.020024</td>\n",
       "      <td>65.060941</td>\n",
       "    </tr>\n",
       "    <tr>\n",
       "      <th>3</th>\n",
       "      <td>id0000004</td>\n",
       "      <td>Lana Albina de Lemos Mumy</td>\n",
       "      <td>Fem</td>\n",
       "      <td>1993-05-03</td>\n",
       "      <td>28</td>\n",
       "      <td>cobbangela@hotmail.com</td>\n",
       "      <td>(Decimal('-40.8557635'), Decimal('-2.936099'))</td>\n",
       "      <td>Estate manager/land agent</td>\n",
       "      <td>DF</td>\n",
       "      <td>$99878.74</td>\n",
       "      <td>Agressivo</td>\n",
       "      <td>NaN</td>\n",
       "      <td>5258.69</td>\n",
       "      <td>3723.10</td>\n",
       "      <td>NaN</td>\n",
       "      <td>5933.91</td>\n",
       "      <td>NaN</td>\n",
       "      <td>486.05</td>\n",
       "      <td>25.597924</td>\n",
       "      <td>86.548918</td>\n",
       "    </tr>\n",
       "    <tr>\n",
       "      <th>4</th>\n",
       "      <td>id0000005</td>\n",
       "      <td>Rose Elisângela Vyrnium de Moura</td>\n",
       "      <td>Fem</td>\n",
       "      <td>1984-06-10</td>\n",
       "      <td>37</td>\n",
       "      <td>crawfordcraig@yahoo.com</td>\n",
       "      <td>(Decimal('-20.2620885'), Decimal('104.349223'))</td>\n",
       "      <td>Chartered public finance accountant</td>\n",
       "      <td>MS</td>\n",
       "      <td>$188.01</td>\n",
       "      <td>Conservador</td>\n",
       "      <td>1505.16</td>\n",
       "      <td>6415.30</td>\n",
       "      <td>3462.67</td>\n",
       "      <td>30841.35</td>\n",
       "      <td>6044.86</td>\n",
       "      <td>2198.89</td>\n",
       "      <td>512.98</td>\n",
       "      <td>14.463307</td>\n",
       "      <td>33.566292</td>\n",
       "    </tr>\n",
       "    <tr>\n",
       "      <th>...</th>\n",
       "      <td>...</td>\n",
       "      <td>...</td>\n",
       "      <td>...</td>\n",
       "      <td>...</td>\n",
       "      <td>...</td>\n",
       "      <td>...</td>\n",
       "      <td>...</td>\n",
       "      <td>...</td>\n",
       "      <td>...</td>\n",
       "      <td>...</td>\n",
       "      <td>...</td>\n",
       "      <td>...</td>\n",
       "      <td>...</td>\n",
       "      <td>...</td>\n",
       "      <td>...</td>\n",
       "      <td>...</td>\n",
       "      <td>...</td>\n",
       "      <td>...</td>\n",
       "      <td>...</td>\n",
       "      <td>...</td>\n",
       "    </tr>\n",
       "    <tr>\n",
       "      <th>38749</th>\n",
       "      <td>id0038750</td>\n",
       "      <td>Beatriz Maísa de Miranda Milani</td>\n",
       "      <td>Fem</td>\n",
       "      <td>1999-02-20</td>\n",
       "      <td>22</td>\n",
       "      <td>mark47@gmail.com</td>\n",
       "      <td>(Decimal('-23.8494875'), Decimal('-91.561304'))</td>\n",
       "      <td>Further education lecturer</td>\n",
       "      <td>RS</td>\n",
       "      <td>$4993.49</td>\n",
       "      <td>Moderado</td>\n",
       "      <td>1001.01</td>\n",
       "      <td>5561.55</td>\n",
       "      <td>NaN</td>\n",
       "      <td>8454.99</td>\n",
       "      <td>NaN</td>\n",
       "      <td>2191.78</td>\n",
       "      <td>489.76</td>\n",
       "      <td>66.644257</td>\n",
       "      <td>6.462871</td>\n",
       "    </tr>\n",
       "    <tr>\n",
       "      <th>38750</th>\n",
       "      <td>id0038751</td>\n",
       "      <td>Juan dos Santos</td>\n",
       "      <td>Masc</td>\n",
       "      <td>1999-07-10</td>\n",
       "      <td>22</td>\n",
       "      <td>greggnguyen@hotmail.com</td>\n",
       "      <td>(Decimal('-7.8876355'), Decimal('155.835880'))</td>\n",
       "      <td>Adult guidance worker</td>\n",
       "      <td>PI</td>\n",
       "      <td>$41218.63</td>\n",
       "      <td>Moderado</td>\n",
       "      <td>1532.51</td>\n",
       "      <td>5102.84</td>\n",
       "      <td>3097.50</td>\n",
       "      <td>11243.08</td>\n",
       "      <td>4692.11</td>\n",
       "      <td>2368.93</td>\n",
       "      <td>496.02</td>\n",
       "      <td>96.987294</td>\n",
       "      <td>72.333030</td>\n",
       "    </tr>\n",
       "    <tr>\n",
       "      <th>38751</th>\n",
       "      <td>id0038752</td>\n",
       "      <td>Severino Edson de Viana Loase</td>\n",
       "      <td>Masc</td>\n",
       "      <td>1981-12-01</td>\n",
       "      <td>40</td>\n",
       "      <td>cindy11@yahoo.com</td>\n",
       "      <td>(Decimal('-52.1338005'), Decimal('-59.715325'))</td>\n",
       "      <td>Arts development officer</td>\n",
       "      <td>PR</td>\n",
       "      <td>$32.41</td>\n",
       "      <td>Agressivo</td>\n",
       "      <td>1163.90</td>\n",
       "      <td>4911.63</td>\n",
       "      <td>3746.62</td>\n",
       "      <td>NaN</td>\n",
       "      <td>6733.79</td>\n",
       "      <td>2338.43</td>\n",
       "      <td>504.32</td>\n",
       "      <td>32.139610</td>\n",
       "      <td>22.742974</td>\n",
       "    </tr>\n",
       "    <tr>\n",
       "      <th>38752</th>\n",
       "      <td>id0038753</td>\n",
       "      <td>Kim Mooshi</td>\n",
       "      <td>Masc</td>\n",
       "      <td>1999-12-06</td>\n",
       "      <td>22</td>\n",
       "      <td>mcdonaldmario@gmail.com</td>\n",
       "      <td>(Decimal('-81.2874995'), Decimal('-28.805800'))</td>\n",
       "      <td>Production manager</td>\n",
       "      <td>RJ</td>\n",
       "      <td>$914.52</td>\n",
       "      <td>Conservador</td>\n",
       "      <td>NaN</td>\n",
       "      <td>5532.35</td>\n",
       "      <td>2861.32</td>\n",
       "      <td>NaN</td>\n",
       "      <td>4921.77</td>\n",
       "      <td>2024.00</td>\n",
       "      <td>500.65</td>\n",
       "      <td>98.385080</td>\n",
       "      <td>56.611838</td>\n",
       "    </tr>\n",
       "    <tr>\n",
       "      <th>38753</th>\n",
       "      <td>id0038754</td>\n",
       "      <td>Vinícius Arnaldo de Pereira Mendes</td>\n",
       "      <td>Masc</td>\n",
       "      <td>2003-09-13</td>\n",
       "      <td>18</td>\n",
       "      <td>omartinez@hotmail.com</td>\n",
       "      <td>(Decimal('-37.248521'), Decimal('6.033254'))</td>\n",
       "      <td>Pension scheme manager</td>\n",
       "      <td>AL</td>\n",
       "      <td>$29076.19</td>\n",
       "      <td>Moderado</td>\n",
       "      <td>981.62</td>\n",
       "      <td>4825.10</td>\n",
       "      <td>NaN</td>\n",
       "      <td>18085.88</td>\n",
       "      <td>5161.07</td>\n",
       "      <td>2257.66</td>\n",
       "      <td>507.95</td>\n",
       "      <td>29.660050</td>\n",
       "      <td>47.371606</td>\n",
       "    </tr>\n",
       "  </tbody>\n",
       "</table>\n",
       "<p>38754 rows × 20 columns</p>\n",
       "</div>"
      ],
      "text/plain": [
       "              id                                Nome  Sexo        Nasc  Idade  \\\n",
       "0      id0000001               Eunice Hellen do Vale   Fem  1970-11-12     51   \n",
       "1      id0000002     Sebastião Castelo Branco Júnior  Masc  2019-12-10      2   \n",
       "2      id0000003           Romildo Fábio de Carvalho  Masc  2015-12-28      6   \n",
       "3      id0000004           Lana Albina de Lemos Mumy   Fem  1993-05-03     28   \n",
       "4      id0000005    Rose Elisângela Vyrnium de Moura   Fem  1984-06-10     37   \n",
       "...          ...                                 ...   ...         ...    ...   \n",
       "38749  id0038750     Beatriz Maísa de Miranda Milani   Fem  1999-02-20     22   \n",
       "38750  id0038751                     Juan dos Santos  Masc  1999-07-10     22   \n",
       "38751  id0038752       Severino Edson de Viana Loase  Masc  1981-12-01     40   \n",
       "38752  id0038753                          Kim Mooshi  Masc  1999-12-06     22   \n",
       "38753  id0038754  Vinícius Arnaldo de Pereira Mendes  Masc  2003-09-13     18   \n",
       "\n",
       "                         Email  \\\n",
       "0             djones@yahoo.com   \n",
       "1       barnesandrea@yahoo.com   \n",
       "2      walkermichael@yahoo.com   \n",
       "3       cobbangela@hotmail.com   \n",
       "4      crawfordcraig@yahoo.com   \n",
       "...                        ...   \n",
       "38749         mark47@gmail.com   \n",
       "38750  greggnguyen@hotmail.com   \n",
       "38751        cindy11@yahoo.com   \n",
       "38752  mcdonaldmario@gmail.com   \n",
       "38753    omartinez@hotmail.com   \n",
       "\n",
       "                                              Lat_long  \\\n",
       "0       (Decimal('24.7024355'), Decimal('-28.038258'))   \n",
       "1       (Decimal('21.8589875'), Decimal('122.830566'))   \n",
       "2       (Decimal('-28.2161525'), Decimal('97.140529'))   \n",
       "3       (Decimal('-40.8557635'), Decimal('-2.936099'))   \n",
       "4      (Decimal('-20.2620885'), Decimal('104.349223'))   \n",
       "...                                                ...   \n",
       "38749  (Decimal('-23.8494875'), Decimal('-91.561304'))   \n",
       "38750   (Decimal('-7.8876355'), Decimal('155.835880'))   \n",
       "38751  (Decimal('-52.1338005'), Decimal('-59.715325'))   \n",
       "38752  (Decimal('-81.2874995'), Decimal('-28.805800'))   \n",
       "38753     (Decimal('-37.248521'), Decimal('6.033254'))   \n",
       "\n",
       "                                         Job Estado    Salario       Perfil  \\\n",
       "0                           Technical author     TO     $63.67     Moderado   \n",
       "1                       Biochemist, clinical     DF     $21.96     Moderado   \n",
       "2      Development worker, international aid     DF  $62497.64    Agressivo   \n",
       "3                  Estate manager/land agent     DF  $99878.74    Agressivo   \n",
       "4        Chartered public finance accountant     MS    $188.01  Conservador   \n",
       "...                                      ...    ...        ...          ...   \n",
       "38749             Further education lecturer     RS   $4993.49     Moderado   \n",
       "38750                  Adult guidance worker     PI  $41218.63     Moderado   \n",
       "38751               Arts development officer     PR     $32.41    Agressivo   \n",
       "38752                     Production manager     RJ    $914.52  Conservador   \n",
       "38753                 Pension scheme manager     AL  $29076.19     Moderado   \n",
       "\n",
       "       Ativo01  Ativo02  Ativo03   Ativo04  Ativo05  Ativo06  Ativo07  \\\n",
       "0      1174.27  4980.98  2638.24       NaN  4480.91  2329.72   480.72   \n",
       "1       842.12  5646.09  3336.07       NaN  5624.22  2669.98   504.17   \n",
       "2       818.81  5516.52  3396.64       NaN  5033.83  2229.45   523.12   \n",
       "3          NaN  5258.69  3723.10       NaN  5933.91      NaN   486.05   \n",
       "4      1505.16  6415.30  3462.67  30841.35  6044.86  2198.89   512.98   \n",
       "...        ...      ...      ...       ...      ...      ...      ...   \n",
       "38749  1001.01  5561.55      NaN   8454.99      NaN  2191.78   489.76   \n",
       "38750  1532.51  5102.84  3097.50  11243.08  4692.11  2368.93   496.02   \n",
       "38751  1163.90  4911.63  3746.62       NaN  6733.79  2338.43   504.32   \n",
       "38752      NaN  5532.35  2861.32       NaN  4921.77  2024.00   500.65   \n",
       "38753   981.62  4825.10      NaN  18085.88  5161.07  2257.66   507.95   \n",
       "\n",
       "           Nota1      Nota2  \n",
       "0      79.600372   9.802620  \n",
       "1      44.406893  90.512871  \n",
       "2      44.020024  65.060941  \n",
       "3      25.597924  86.548918  \n",
       "4      14.463307  33.566292  \n",
       "...          ...        ...  \n",
       "38749  66.644257   6.462871  \n",
       "38750  96.987294  72.333030  \n",
       "38751  32.139610  22.742974  \n",
       "38752  98.385080  56.611838  \n",
       "38753  29.660050  47.371606  \n",
       "\n",
       "[38754 rows x 20 columns]"
      ]
     },
     "execution_count": 11,
     "metadata": {},
     "output_type": "execute_result"
    }
   ],
   "source": [
    "df_novo"
   ]
  },
  {
   "cell_type": "markdown",
   "id": "7abd5daf",
   "metadata": {},
   "source": [
    "## 5 - Ordene o dataframe pelo id, de forma crescente e redefina o índice\n"
   ]
  },
  {
   "cell_type": "code",
   "execution_count": 12,
   "id": "65ac9912",
   "metadata": {},
   "outputs": [],
   "source": [
    "df_ordenado = df_novo.sort_values('id')"
   ]
  },
  {
   "cell_type": "code",
   "execution_count": 13,
   "id": "0c09a932",
   "metadata": {},
   "outputs": [],
   "source": [
    "df_ordenado=df_ordenado.rename(columns={'id':'Índice'})"
   ]
  },
  {
   "cell_type": "code",
   "execution_count": 14,
   "id": "d1cb1354",
   "metadata": {},
   "outputs": [
    {
     "data": {
      "text/html": [
       "<div>\n",
       "<style scoped>\n",
       "    .dataframe tbody tr th:only-of-type {\n",
       "        vertical-align: middle;\n",
       "    }\n",
       "\n",
       "    .dataframe tbody tr th {\n",
       "        vertical-align: top;\n",
       "    }\n",
       "\n",
       "    .dataframe thead th {\n",
       "        text-align: right;\n",
       "    }\n",
       "</style>\n",
       "<table border=\"1\" class=\"dataframe\">\n",
       "  <thead>\n",
       "    <tr style=\"text-align: right;\">\n",
       "      <th></th>\n",
       "      <th>Nome</th>\n",
       "      <th>Sexo</th>\n",
       "      <th>Nasc</th>\n",
       "      <th>Idade</th>\n",
       "      <th>Email</th>\n",
       "      <th>Lat_long</th>\n",
       "      <th>Job</th>\n",
       "      <th>Estado</th>\n",
       "      <th>Salario</th>\n",
       "      <th>Perfil</th>\n",
       "      <th>Ativo01</th>\n",
       "      <th>Ativo02</th>\n",
       "      <th>Ativo03</th>\n",
       "      <th>Ativo04</th>\n",
       "      <th>Ativo05</th>\n",
       "      <th>Ativo06</th>\n",
       "      <th>Ativo07</th>\n",
       "      <th>Nota1</th>\n",
       "      <th>Nota2</th>\n",
       "    </tr>\n",
       "    <tr>\n",
       "      <th>Índice</th>\n",
       "      <th></th>\n",
       "      <th></th>\n",
       "      <th></th>\n",
       "      <th></th>\n",
       "      <th></th>\n",
       "      <th></th>\n",
       "      <th></th>\n",
       "      <th></th>\n",
       "      <th></th>\n",
       "      <th></th>\n",
       "      <th></th>\n",
       "      <th></th>\n",
       "      <th></th>\n",
       "      <th></th>\n",
       "      <th></th>\n",
       "      <th></th>\n",
       "      <th></th>\n",
       "      <th></th>\n",
       "      <th></th>\n",
       "    </tr>\n",
       "  </thead>\n",
       "  <tbody>\n",
       "    <tr>\n",
       "      <th>id0000001</th>\n",
       "      <td>Eunice Hellen do Vale</td>\n",
       "      <td>Fem</td>\n",
       "      <td>1970-11-12</td>\n",
       "      <td>51</td>\n",
       "      <td>djones@yahoo.com</td>\n",
       "      <td>(Decimal('24.7024355'), Decimal('-28.038258'))</td>\n",
       "      <td>Technical author</td>\n",
       "      <td>TO</td>\n",
       "      <td>$63.67</td>\n",
       "      <td>Moderado</td>\n",
       "      <td>1174.27</td>\n",
       "      <td>4980.98</td>\n",
       "      <td>2638.24</td>\n",
       "      <td>NaN</td>\n",
       "      <td>4480.91</td>\n",
       "      <td>2329.72</td>\n",
       "      <td>480.72</td>\n",
       "      <td>79.600372</td>\n",
       "      <td>9.802620</td>\n",
       "    </tr>\n",
       "    <tr>\n",
       "      <th>id0000002</th>\n",
       "      <td>Sebastião Castelo Branco Júnior</td>\n",
       "      <td>Masc</td>\n",
       "      <td>2019-12-10</td>\n",
       "      <td>2</td>\n",
       "      <td>barnesandrea@yahoo.com</td>\n",
       "      <td>(Decimal('21.8589875'), Decimal('122.830566'))</td>\n",
       "      <td>Biochemist, clinical</td>\n",
       "      <td>DF</td>\n",
       "      <td>$21.96</td>\n",
       "      <td>Moderado</td>\n",
       "      <td>842.12</td>\n",
       "      <td>5646.09</td>\n",
       "      <td>3336.07</td>\n",
       "      <td>NaN</td>\n",
       "      <td>5624.22</td>\n",
       "      <td>2669.98</td>\n",
       "      <td>504.17</td>\n",
       "      <td>44.406893</td>\n",
       "      <td>90.512871</td>\n",
       "    </tr>\n",
       "    <tr>\n",
       "      <th>id0000003</th>\n",
       "      <td>Romildo Fábio de Carvalho</td>\n",
       "      <td>Masc</td>\n",
       "      <td>2015-12-28</td>\n",
       "      <td>6</td>\n",
       "      <td>walkermichael@yahoo.com</td>\n",
       "      <td>(Decimal('-28.2161525'), Decimal('97.140529'))</td>\n",
       "      <td>Development worker, international aid</td>\n",
       "      <td>DF</td>\n",
       "      <td>$62497.64</td>\n",
       "      <td>Agressivo</td>\n",
       "      <td>818.81</td>\n",
       "      <td>5516.52</td>\n",
       "      <td>3396.64</td>\n",
       "      <td>NaN</td>\n",
       "      <td>5033.83</td>\n",
       "      <td>2229.45</td>\n",
       "      <td>523.12</td>\n",
       "      <td>44.020024</td>\n",
       "      <td>65.060941</td>\n",
       "    </tr>\n",
       "    <tr>\n",
       "      <th>id0000004</th>\n",
       "      <td>Lana Albina de Lemos Mumy</td>\n",
       "      <td>Fem</td>\n",
       "      <td>1993-05-03</td>\n",
       "      <td>28</td>\n",
       "      <td>cobbangela@hotmail.com</td>\n",
       "      <td>(Decimal('-40.8557635'), Decimal('-2.936099'))</td>\n",
       "      <td>Estate manager/land agent</td>\n",
       "      <td>DF</td>\n",
       "      <td>$99878.74</td>\n",
       "      <td>Agressivo</td>\n",
       "      <td>NaN</td>\n",
       "      <td>5258.69</td>\n",
       "      <td>3723.10</td>\n",
       "      <td>NaN</td>\n",
       "      <td>5933.91</td>\n",
       "      <td>NaN</td>\n",
       "      <td>486.05</td>\n",
       "      <td>25.597924</td>\n",
       "      <td>86.548918</td>\n",
       "    </tr>\n",
       "    <tr>\n",
       "      <th>id0000005</th>\n",
       "      <td>Rose Elisângela Vyrnium de Moura</td>\n",
       "      <td>Fem</td>\n",
       "      <td>1984-06-10</td>\n",
       "      <td>37</td>\n",
       "      <td>crawfordcraig@yahoo.com</td>\n",
       "      <td>(Decimal('-20.2620885'), Decimal('104.349223'))</td>\n",
       "      <td>Chartered public finance accountant</td>\n",
       "      <td>MS</td>\n",
       "      <td>$188.01</td>\n",
       "      <td>Conservador</td>\n",
       "      <td>1505.16</td>\n",
       "      <td>6415.30</td>\n",
       "      <td>3462.67</td>\n",
       "      <td>30841.35</td>\n",
       "      <td>6044.86</td>\n",
       "      <td>2198.89</td>\n",
       "      <td>512.98</td>\n",
       "      <td>14.463307</td>\n",
       "      <td>33.566292</td>\n",
       "    </tr>\n",
       "    <tr>\n",
       "      <th>...</th>\n",
       "      <td>...</td>\n",
       "      <td>...</td>\n",
       "      <td>...</td>\n",
       "      <td>...</td>\n",
       "      <td>...</td>\n",
       "      <td>...</td>\n",
       "      <td>...</td>\n",
       "      <td>...</td>\n",
       "      <td>...</td>\n",
       "      <td>...</td>\n",
       "      <td>...</td>\n",
       "      <td>...</td>\n",
       "      <td>...</td>\n",
       "      <td>...</td>\n",
       "      <td>...</td>\n",
       "      <td>...</td>\n",
       "      <td>...</td>\n",
       "      <td>...</td>\n",
       "      <td>...</td>\n",
       "    </tr>\n",
       "    <tr>\n",
       "      <th>id0038750</th>\n",
       "      <td>Beatriz Maísa de Miranda Milani</td>\n",
       "      <td>Fem</td>\n",
       "      <td>1999-02-20</td>\n",
       "      <td>22</td>\n",
       "      <td>mark47@gmail.com</td>\n",
       "      <td>(Decimal('-23.8494875'), Decimal('-91.561304'))</td>\n",
       "      <td>Further education lecturer</td>\n",
       "      <td>RS</td>\n",
       "      <td>$4993.49</td>\n",
       "      <td>Moderado</td>\n",
       "      <td>1001.01</td>\n",
       "      <td>5561.55</td>\n",
       "      <td>NaN</td>\n",
       "      <td>8454.99</td>\n",
       "      <td>NaN</td>\n",
       "      <td>2191.78</td>\n",
       "      <td>489.76</td>\n",
       "      <td>66.644257</td>\n",
       "      <td>6.462871</td>\n",
       "    </tr>\n",
       "    <tr>\n",
       "      <th>id0038751</th>\n",
       "      <td>Juan dos Santos</td>\n",
       "      <td>Masc</td>\n",
       "      <td>1999-07-10</td>\n",
       "      <td>22</td>\n",
       "      <td>greggnguyen@hotmail.com</td>\n",
       "      <td>(Decimal('-7.8876355'), Decimal('155.835880'))</td>\n",
       "      <td>Adult guidance worker</td>\n",
       "      <td>PI</td>\n",
       "      <td>$41218.63</td>\n",
       "      <td>Moderado</td>\n",
       "      <td>1532.51</td>\n",
       "      <td>5102.84</td>\n",
       "      <td>3097.50</td>\n",
       "      <td>11243.08</td>\n",
       "      <td>4692.11</td>\n",
       "      <td>2368.93</td>\n",
       "      <td>496.02</td>\n",
       "      <td>96.987294</td>\n",
       "      <td>72.333030</td>\n",
       "    </tr>\n",
       "    <tr>\n",
       "      <th>id0038752</th>\n",
       "      <td>Severino Edson de Viana Loase</td>\n",
       "      <td>Masc</td>\n",
       "      <td>1981-12-01</td>\n",
       "      <td>40</td>\n",
       "      <td>cindy11@yahoo.com</td>\n",
       "      <td>(Decimal('-52.1338005'), Decimal('-59.715325'))</td>\n",
       "      <td>Arts development officer</td>\n",
       "      <td>PR</td>\n",
       "      <td>$32.41</td>\n",
       "      <td>Agressivo</td>\n",
       "      <td>1163.90</td>\n",
       "      <td>4911.63</td>\n",
       "      <td>3746.62</td>\n",
       "      <td>NaN</td>\n",
       "      <td>6733.79</td>\n",
       "      <td>2338.43</td>\n",
       "      <td>504.32</td>\n",
       "      <td>32.139610</td>\n",
       "      <td>22.742974</td>\n",
       "    </tr>\n",
       "    <tr>\n",
       "      <th>id0038753</th>\n",
       "      <td>Kim Mooshi</td>\n",
       "      <td>Masc</td>\n",
       "      <td>1999-12-06</td>\n",
       "      <td>22</td>\n",
       "      <td>mcdonaldmario@gmail.com</td>\n",
       "      <td>(Decimal('-81.2874995'), Decimal('-28.805800'))</td>\n",
       "      <td>Production manager</td>\n",
       "      <td>RJ</td>\n",
       "      <td>$914.52</td>\n",
       "      <td>Conservador</td>\n",
       "      <td>NaN</td>\n",
       "      <td>5532.35</td>\n",
       "      <td>2861.32</td>\n",
       "      <td>NaN</td>\n",
       "      <td>4921.77</td>\n",
       "      <td>2024.00</td>\n",
       "      <td>500.65</td>\n",
       "      <td>98.385080</td>\n",
       "      <td>56.611838</td>\n",
       "    </tr>\n",
       "    <tr>\n",
       "      <th>id0038754</th>\n",
       "      <td>Vinícius Arnaldo de Pereira Mendes</td>\n",
       "      <td>Masc</td>\n",
       "      <td>2003-09-13</td>\n",
       "      <td>18</td>\n",
       "      <td>omartinez@hotmail.com</td>\n",
       "      <td>(Decimal('-37.248521'), Decimal('6.033254'))</td>\n",
       "      <td>Pension scheme manager</td>\n",
       "      <td>AL</td>\n",
       "      <td>$29076.19</td>\n",
       "      <td>Moderado</td>\n",
       "      <td>981.62</td>\n",
       "      <td>4825.10</td>\n",
       "      <td>NaN</td>\n",
       "      <td>18085.88</td>\n",
       "      <td>5161.07</td>\n",
       "      <td>2257.66</td>\n",
       "      <td>507.95</td>\n",
       "      <td>29.660050</td>\n",
       "      <td>47.371606</td>\n",
       "    </tr>\n",
       "  </tbody>\n",
       "</table>\n",
       "<p>38754 rows × 19 columns</p>\n",
       "</div>"
      ],
      "text/plain": [
       "                                         Nome  Sexo        Nasc  Idade  \\\n",
       "Índice                                                                   \n",
       "id0000001               Eunice Hellen do Vale   Fem  1970-11-12     51   \n",
       "id0000002     Sebastião Castelo Branco Júnior  Masc  2019-12-10      2   \n",
       "id0000003           Romildo Fábio de Carvalho  Masc  2015-12-28      6   \n",
       "id0000004           Lana Albina de Lemos Mumy   Fem  1993-05-03     28   \n",
       "id0000005    Rose Elisângela Vyrnium de Moura   Fem  1984-06-10     37   \n",
       "...                                       ...   ...         ...    ...   \n",
       "id0038750     Beatriz Maísa de Miranda Milani   Fem  1999-02-20     22   \n",
       "id0038751                     Juan dos Santos  Masc  1999-07-10     22   \n",
       "id0038752       Severino Edson de Viana Loase  Masc  1981-12-01     40   \n",
       "id0038753                          Kim Mooshi  Masc  1999-12-06     22   \n",
       "id0038754  Vinícius Arnaldo de Pereira Mendes  Masc  2003-09-13     18   \n",
       "\n",
       "                             Email  \\\n",
       "Índice                               \n",
       "id0000001         djones@yahoo.com   \n",
       "id0000002   barnesandrea@yahoo.com   \n",
       "id0000003  walkermichael@yahoo.com   \n",
       "id0000004   cobbangela@hotmail.com   \n",
       "id0000005  crawfordcraig@yahoo.com   \n",
       "...                            ...   \n",
       "id0038750         mark47@gmail.com   \n",
       "id0038751  greggnguyen@hotmail.com   \n",
       "id0038752        cindy11@yahoo.com   \n",
       "id0038753  mcdonaldmario@gmail.com   \n",
       "id0038754    omartinez@hotmail.com   \n",
       "\n",
       "                                                  Lat_long  \\\n",
       "Índice                                                       \n",
       "id0000001   (Decimal('24.7024355'), Decimal('-28.038258'))   \n",
       "id0000002   (Decimal('21.8589875'), Decimal('122.830566'))   \n",
       "id0000003   (Decimal('-28.2161525'), Decimal('97.140529'))   \n",
       "id0000004   (Decimal('-40.8557635'), Decimal('-2.936099'))   \n",
       "id0000005  (Decimal('-20.2620885'), Decimal('104.349223'))   \n",
       "...                                                    ...   \n",
       "id0038750  (Decimal('-23.8494875'), Decimal('-91.561304'))   \n",
       "id0038751   (Decimal('-7.8876355'), Decimal('155.835880'))   \n",
       "id0038752  (Decimal('-52.1338005'), Decimal('-59.715325'))   \n",
       "id0038753  (Decimal('-81.2874995'), Decimal('-28.805800'))   \n",
       "id0038754     (Decimal('-37.248521'), Decimal('6.033254'))   \n",
       "\n",
       "                                             Job Estado    Salario  \\\n",
       "Índice                                                               \n",
       "id0000001                       Technical author     TO     $63.67   \n",
       "id0000002                   Biochemist, clinical     DF     $21.96   \n",
       "id0000003  Development worker, international aid     DF  $62497.64   \n",
       "id0000004              Estate manager/land agent     DF  $99878.74   \n",
       "id0000005    Chartered public finance accountant     MS    $188.01   \n",
       "...                                          ...    ...        ...   \n",
       "id0038750             Further education lecturer     RS   $4993.49   \n",
       "id0038751                  Adult guidance worker     PI  $41218.63   \n",
       "id0038752               Arts development officer     PR     $32.41   \n",
       "id0038753                     Production manager     RJ    $914.52   \n",
       "id0038754                 Pension scheme manager     AL  $29076.19   \n",
       "\n",
       "                Perfil  Ativo01  Ativo02  Ativo03   Ativo04  Ativo05  Ativo06  \\\n",
       "Índice                                                                          \n",
       "id0000001     Moderado  1174.27  4980.98  2638.24       NaN  4480.91  2329.72   \n",
       "id0000002     Moderado   842.12  5646.09  3336.07       NaN  5624.22  2669.98   \n",
       "id0000003    Agressivo   818.81  5516.52  3396.64       NaN  5033.83  2229.45   \n",
       "id0000004    Agressivo      NaN  5258.69  3723.10       NaN  5933.91      NaN   \n",
       "id0000005  Conservador  1505.16  6415.30  3462.67  30841.35  6044.86  2198.89   \n",
       "...                ...      ...      ...      ...       ...      ...      ...   \n",
       "id0038750     Moderado  1001.01  5561.55      NaN   8454.99      NaN  2191.78   \n",
       "id0038751     Moderado  1532.51  5102.84  3097.50  11243.08  4692.11  2368.93   \n",
       "id0038752    Agressivo  1163.90  4911.63  3746.62       NaN  6733.79  2338.43   \n",
       "id0038753  Conservador      NaN  5532.35  2861.32       NaN  4921.77  2024.00   \n",
       "id0038754     Moderado   981.62  4825.10      NaN  18085.88  5161.07  2257.66   \n",
       "\n",
       "           Ativo07      Nota1      Nota2  \n",
       "Índice                                    \n",
       "id0000001   480.72  79.600372   9.802620  \n",
       "id0000002   504.17  44.406893  90.512871  \n",
       "id0000003   523.12  44.020024  65.060941  \n",
       "id0000004   486.05  25.597924  86.548918  \n",
       "id0000005   512.98  14.463307  33.566292  \n",
       "...            ...        ...        ...  \n",
       "id0038750   489.76  66.644257   6.462871  \n",
       "id0038751   496.02  96.987294  72.333030  \n",
       "id0038752   504.32  32.139610  22.742974  \n",
       "id0038753   500.65  98.385080  56.611838  \n",
       "id0038754   507.95  29.660050  47.371606  \n",
       "\n",
       "[38754 rows x 19 columns]"
      ]
     },
     "execution_count": 14,
     "metadata": {},
     "output_type": "execute_result"
    }
   ],
   "source": [
    "df_ordenado.set_index('Índice')\n"
   ]
  },
  {
   "cell_type": "markdown",
   "id": "d77e7964",
   "metadata": {},
   "source": [
    "\n",
    "## 6 - Faça uma análise dos dados faltantes e trate-os"
   ]
  },
  {
   "cell_type": "code",
   "execution_count": null,
   "id": "2ef51394",
   "metadata": {},
   "outputs": [],
   "source": []
  },
  {
   "cell_type": "code",
   "execution_count": 15,
   "id": "8078280a",
   "metadata": {},
   "outputs": [
    {
     "data": {
      "text/html": [
       "<div>\n",
       "<style scoped>\n",
       "    .dataframe tbody tr th:only-of-type {\n",
       "        vertical-align: middle;\n",
       "    }\n",
       "\n",
       "    .dataframe tbody tr th {\n",
       "        vertical-align: top;\n",
       "    }\n",
       "\n",
       "    .dataframe thead th {\n",
       "        text-align: right;\n",
       "    }\n",
       "</style>\n",
       "<table border=\"1\" class=\"dataframe\">\n",
       "  <thead>\n",
       "    <tr style=\"text-align: right;\">\n",
       "      <th></th>\n",
       "      <th>Total</th>\n",
       "      <th>Porcentagem</th>\n",
       "    </tr>\n",
       "  </thead>\n",
       "  <tbody>\n",
       "    <tr>\n",
       "      <th>Ativo06</th>\n",
       "      <td>19514</td>\n",
       "      <td>0.503535</td>\n",
       "    </tr>\n",
       "    <tr>\n",
       "      <th>Ativo04</th>\n",
       "      <td>11887</td>\n",
       "      <td>0.306730</td>\n",
       "    </tr>\n",
       "    <tr>\n",
       "      <th>Ativo01</th>\n",
       "      <td>9724</td>\n",
       "      <td>0.250916</td>\n",
       "    </tr>\n",
       "    <tr>\n",
       "      <th>Ativo05</th>\n",
       "      <td>6191</td>\n",
       "      <td>0.159751</td>\n",
       "    </tr>\n",
       "    <tr>\n",
       "      <th>Ativo03</th>\n",
       "      <td>6169</td>\n",
       "      <td>0.159184</td>\n",
       "    </tr>\n",
       "    <tr>\n",
       "      <th>Ativo02</th>\n",
       "      <td>6100</td>\n",
       "      <td>0.157403</td>\n",
       "    </tr>\n",
       "    <tr>\n",
       "      <th>Nota1</th>\n",
       "      <td>3000</td>\n",
       "      <td>0.077411</td>\n",
       "    </tr>\n",
       "    <tr>\n",
       "      <th>Nota2</th>\n",
       "      <td>2000</td>\n",
       "      <td>0.051608</td>\n",
       "    </tr>\n",
       "    <tr>\n",
       "      <th>Nome</th>\n",
       "      <td>0</td>\n",
       "      <td>0.000000</td>\n",
       "    </tr>\n",
       "    <tr>\n",
       "      <th>Ativo07</th>\n",
       "      <td>0</td>\n",
       "      <td>0.000000</td>\n",
       "    </tr>\n",
       "    <tr>\n",
       "      <th>Índice</th>\n",
       "      <td>0</td>\n",
       "      <td>0.000000</td>\n",
       "    </tr>\n",
       "    <tr>\n",
       "      <th>Salario</th>\n",
       "      <td>0</td>\n",
       "      <td>0.000000</td>\n",
       "    </tr>\n",
       "    <tr>\n",
       "      <th>Estado</th>\n",
       "      <td>0</td>\n",
       "      <td>0.000000</td>\n",
       "    </tr>\n",
       "    <tr>\n",
       "      <th>Job</th>\n",
       "      <td>0</td>\n",
       "      <td>0.000000</td>\n",
       "    </tr>\n",
       "    <tr>\n",
       "      <th>Lat_long</th>\n",
       "      <td>0</td>\n",
       "      <td>0.000000</td>\n",
       "    </tr>\n",
       "    <tr>\n",
       "      <th>Email</th>\n",
       "      <td>0</td>\n",
       "      <td>0.000000</td>\n",
       "    </tr>\n",
       "    <tr>\n",
       "      <th>Idade</th>\n",
       "      <td>0</td>\n",
       "      <td>0.000000</td>\n",
       "    </tr>\n",
       "    <tr>\n",
       "      <th>Nasc</th>\n",
       "      <td>0</td>\n",
       "      <td>0.000000</td>\n",
       "    </tr>\n",
       "    <tr>\n",
       "      <th>Sexo</th>\n",
       "      <td>0</td>\n",
       "      <td>0.000000</td>\n",
       "    </tr>\n",
       "    <tr>\n",
       "      <th>Perfil</th>\n",
       "      <td>0</td>\n",
       "      <td>0.000000</td>\n",
       "    </tr>\n",
       "  </tbody>\n",
       "</table>\n",
       "</div>"
      ],
      "text/plain": [
       "          Total  Porcentagem\n",
       "Ativo06   19514     0.503535\n",
       "Ativo04   11887     0.306730\n",
       "Ativo01    9724     0.250916\n",
       "Ativo05    6191     0.159751\n",
       "Ativo03    6169     0.159184\n",
       "Ativo02    6100     0.157403\n",
       "Nota1      3000     0.077411\n",
       "Nota2      2000     0.051608\n",
       "Nome          0     0.000000\n",
       "Ativo07       0     0.000000\n",
       "Índice        0     0.000000\n",
       "Salario       0     0.000000\n",
       "Estado        0     0.000000\n",
       "Job           0     0.000000\n",
       "Lat_long      0     0.000000\n",
       "Email         0     0.000000\n",
       "Idade         0     0.000000\n",
       "Nasc          0     0.000000\n",
       "Sexo          0     0.000000\n",
       "Perfil        0     0.000000"
      ]
     },
     "execution_count": 15,
     "metadata": {},
     "output_type": "execute_result"
    }
   ],
   "source": [
    "total= df_ordenado.isnull().sum().sort_values(ascending=False)\n",
    "porcentagem= (df_ordenado.isnull().sum()/df_ordenado.isnull().count()).sort_values(ascending=False)\n",
    "dados_faltantes= pd.concat([total, porcentagem], axis=1, keys=['Total','Porcentagem'])\n",
    "dados_faltantes"
   ]
  },
  {
   "cell_type": "markdown",
   "id": "7d90d85e",
   "metadata": {},
   "source": [
    "A estratégia adotada para lidar com os dados faltantes Ativo01, Ativo02, Ativo03, Ativo04, Ativo05, Ativo06 será a média deles, todas as colunas onde podemos observar seram preenchidas com essa média apartir de cada perfil."
   ]
  },
  {
   "cell_type": "code",
   "execution_count": 16,
   "id": "0834a4c3",
   "metadata": {},
   "outputs": [],
   "source": [
    "df_conservador= df_ordenado.loc[df_ordenado['Perfil']=='Conservador']"
   ]
  },
  {
   "cell_type": "code",
   "execution_count": 17,
   "id": "5c1fab31",
   "metadata": {},
   "outputs": [],
   "source": [
    "df_moderado= df_ordenado.loc[df_ordenado['Perfil']=='Moderado']"
   ]
  },
  {
   "cell_type": "code",
   "execution_count": 18,
   "id": "0d1f36fe",
   "metadata": {},
   "outputs": [],
   "source": [
    "df_agressivo= df_ordenado.loc[df_ordenado['Perfil']=='Agressivo']"
   ]
  },
  {
   "cell_type": "markdown",
   "id": "6b7b8d78",
   "metadata": {},
   "source": [
    "Preenchendo os dados faltantes do perfil conservador"
   ]
  },
  {
   "cell_type": "code",
   "execution_count": 19,
   "id": "0a4442a5",
   "metadata": {},
   "outputs": [
    {
     "name": "stderr",
     "output_type": "stream",
     "text": [
      "C:\\Users\\Rafael_Uzumaki\\anaconda3\\lib\\site-packages\\pandas\\core\\series.py:4463: SettingWithCopyWarning: \n",
      "A value is trying to be set on a copy of a slice from a DataFrame\n",
      "\n",
      "See the caveats in the documentation: https://pandas.pydata.org/pandas-docs/stable/user_guide/indexing.html#returning-a-view-versus-a-copy\n",
      "  return super().fillna(\n"
     ]
    }
   ],
   "source": [
    "df_conservador['Ativo01'].fillna(value=df_conservador['Ativo01'].mean(), inplace=True)"
   ]
  },
  {
   "cell_type": "code",
   "execution_count": 20,
   "id": "be5d8971",
   "metadata": {},
   "outputs": [],
   "source": [
    "df_conservador['Ativo02'].fillna(value=df_conservador['Ativo02'].mean(), inplace=True)"
   ]
  },
  {
   "cell_type": "code",
   "execution_count": 21,
   "id": "9fd1673a",
   "metadata": {},
   "outputs": [],
   "source": [
    "df_conservador['Ativo03'].fillna(value=df_conservador['Ativo03'].mean(), inplace=True)"
   ]
  },
  {
   "cell_type": "code",
   "execution_count": 22,
   "id": "d1c51fb9",
   "metadata": {},
   "outputs": [],
   "source": [
    "df_conservador['Ativo04'].fillna(value=df_conservador['Ativo04'].mean(), inplace=True)"
   ]
  },
  {
   "cell_type": "code",
   "execution_count": 23,
   "id": "2a98d3a2",
   "metadata": {},
   "outputs": [],
   "source": [
    "df_conservador['Ativo05'].fillna(value=df_conservador['Ativo05'].mean(), inplace=True)"
   ]
  },
  {
   "cell_type": "code",
   "execution_count": 24,
   "id": "072dd571",
   "metadata": {},
   "outputs": [],
   "source": [
    "df_conservador['Ativo06'].fillna(value=df_conservador['Ativo06'].mean(), inplace=True)"
   ]
  },
  {
   "cell_type": "markdown",
   "id": "42b15b48",
   "metadata": {},
   "source": [
    "Preenchendo os dados faltantes de perfil moderado"
   ]
  },
  {
   "cell_type": "code",
   "execution_count": 25,
   "id": "043eb4c8",
   "metadata": {},
   "outputs": [],
   "source": [
    "df_moderado['Ativo01'].fillna(value=df_moderado['Ativo01'].mean(), inplace=True)"
   ]
  },
  {
   "cell_type": "code",
   "execution_count": 26,
   "id": "209edc09",
   "metadata": {},
   "outputs": [],
   "source": [
    "df_moderado['Ativo02'].fillna(value=df_moderado['Ativo02'].mean(), inplace=True)"
   ]
  },
  {
   "cell_type": "code",
   "execution_count": 27,
   "id": "9d94c0b4",
   "metadata": {},
   "outputs": [],
   "source": [
    "df_moderado['Ativo03'].fillna(value=df_moderado['Ativo03'].mean(), inplace=True)"
   ]
  },
  {
   "cell_type": "code",
   "execution_count": 28,
   "id": "da97638a",
   "metadata": {},
   "outputs": [],
   "source": [
    "df_moderado['Ativo04'].fillna(value=df_moderado['Ativo04'].mean(), inplace=True)"
   ]
  },
  {
   "cell_type": "code",
   "execution_count": 29,
   "id": "c8fab047",
   "metadata": {},
   "outputs": [],
   "source": [
    "df_moderado['Ativo05'].fillna(value=df_moderado['Ativo05'].mean(), inplace=True)"
   ]
  },
  {
   "cell_type": "code",
   "execution_count": 30,
   "id": "753d4cd9",
   "metadata": {},
   "outputs": [],
   "source": [
    "df_moderado['Ativo06'].fillna(value=df_moderado['Ativo06'].mean(), inplace=True)"
   ]
  },
  {
   "cell_type": "markdown",
   "id": "9ad6f210",
   "metadata": {},
   "source": [
    "Preenchendo os dados faltantes do agressivo"
   ]
  },
  {
   "cell_type": "code",
   "execution_count": 31,
   "id": "f6f43e36",
   "metadata": {},
   "outputs": [],
   "source": [
    "df_agressivo['Ativo01'].fillna(value=df_agressivo['Ativo01'].mean(), inplace=True)"
   ]
  },
  {
   "cell_type": "code",
   "execution_count": 32,
   "id": "b77a3a0e",
   "metadata": {},
   "outputs": [],
   "source": [
    "df_agressivo['Ativo02'].fillna(value=df_agressivo['Ativo02'].mean(), inplace=True)"
   ]
  },
  {
   "cell_type": "code",
   "execution_count": 33,
   "id": "0b0fcd0e",
   "metadata": {},
   "outputs": [],
   "source": [
    "df_agressivo['Ativo03'].fillna(value=df_agressivo['Ativo03'].mean(), inplace=True)"
   ]
  },
  {
   "cell_type": "code",
   "execution_count": 34,
   "id": "34c62608",
   "metadata": {},
   "outputs": [],
   "source": [
    "df_agressivo['Ativo04'].fillna(value=df_agressivo['Ativo04'].mean(), inplace=True)"
   ]
  },
  {
   "cell_type": "code",
   "execution_count": 35,
   "id": "1a4dadf8",
   "metadata": {},
   "outputs": [],
   "source": [
    "df_agressivo['Ativo05'].fillna(value=df_agressivo['Ativo05'].mean(), inplace=True)"
   ]
  },
  {
   "cell_type": "code",
   "execution_count": 36,
   "id": "fe6b40fa",
   "metadata": {},
   "outputs": [],
   "source": [
    "df_agressivo['Ativo06'].fillna(value=df_agressivo['Ativo06'].mean(), inplace=True)"
   ]
  },
  {
   "cell_type": "markdown",
   "id": "2b4961c9",
   "metadata": {},
   "source": [
    "E a estrategia adotada para os dados Nota1, Nota2 será a média pela porcetangem de ser muito baixa."
   ]
  },
  {
   "cell_type": "code",
   "execution_count": 37,
   "id": "b1a4e38e",
   "metadata": {},
   "outputs": [],
   "source": [
    "df_novo1= pd.concat([df_conservador,df_moderado,df_agressivo])\n",
    "df_novo2=df_novo1.sort_values('Índice')"
   ]
  },
  {
   "cell_type": "code",
   "execution_count": 38,
   "id": "4755a16f",
   "metadata": {},
   "outputs": [],
   "source": [
    "df_novo2['Nota1'].fillna(df_novo2['Nota1'].mean(), inplace=True)"
   ]
  },
  {
   "cell_type": "code",
   "execution_count": 39,
   "id": "9c10d201",
   "metadata": {},
   "outputs": [],
   "source": [
    "df_novo2['Nota2'].fillna(df_novo2['Nota2'].mean(), inplace=True)"
   ]
  },
  {
   "cell_type": "markdown",
   "id": "c9b6199a",
   "metadata": {},
   "source": [
    "## 7 - Manipule os dados a seguir:\n",
    "Criar coluna \"Total\" somando o valor de todos os ativos por investidor"
   ]
  },
  {
   "cell_type": "code",
   "execution_count": 40,
   "id": "b5220c2d",
   "metadata": {},
   "outputs": [],
   "source": [
    "df_novo2['Total']= df_novo2['Ativo01']+df_novo2['Ativo02']+df_novo2['Ativo03']+df_novo2['Ativo04']+df_novo2['Ativo05']+df_novo2['Ativo06']+df_novo2['Ativo07']"
   ]
  },
  {
   "cell_type": "markdown",
   "id": "7b85e5e9",
   "metadata": {},
   "source": [
    "Criar coluna \"Media\" com a média das notas 1 e 2"
   ]
  },
  {
   "cell_type": "code",
   "execution_count": 41,
   "id": "5bf4fb5d",
   "metadata": {},
   "outputs": [],
   "source": [
    "df_novo2['Média']= (df_novo2['Nota1'] + df_novo2['Nota2'])/2"
   ]
  },
  {
   "cell_type": "markdown",
   "id": "711cc493",
   "metadata": {},
   "source": [
    "Criar coluna \"Dominio\" com apenas o domínio do email (dica: separar por @)"
   ]
  },
  {
   "cell_type": "code",
   "execution_count": 42,
   "id": "6790051a",
   "metadata": {},
   "outputs": [],
   "source": [
    "df_novo2['Dominio']= df_novo2['Email'].str.split('@').str.get(1)"
   ]
  },
  {
   "cell_type": "markdown",
   "id": "ab8b535c",
   "metadata": {},
   "source": [
    "Mudar o nome da coluna \"Salário\" para \"Renda\" e tratar a coluna (sem caracter $ e tipo numérica)"
   ]
  },
  {
   "cell_type": "code",
   "execution_count": 43,
   "id": "8cf1c667",
   "metadata": {},
   "outputs": [],
   "source": [
    "df_novo2.rename(columns={'Salario': 'Renda'}, inplace=True)"
   ]
  },
  {
   "cell_type": "code",
   "execution_count": 44,
   "id": "a9bc188f",
   "metadata": {},
   "outputs": [
    {
     "name": "stderr",
     "output_type": "stream",
     "text": [
      "<ipython-input-44-e5b1adab09a8>:1: FutureWarning: The default value of regex will change from True to False in a future version. In addition, single character regular expressions will*not* be treated as literal strings when regex=True.\n",
      "  df_novo2['Renda']= df_novo2['Renda'].str.replace('$', '')\n"
     ]
    }
   ],
   "source": [
    "df_novo2['Renda']= df_novo2['Renda'].str.replace('$', '')"
   ]
  },
  {
   "cell_type": "code",
   "execution_count": 45,
   "id": "ca0e7add",
   "metadata": {},
   "outputs": [
    {
     "data": {
      "text/plain": [
       "0           63.67\n",
       "1           21.96\n",
       "2        62497.64\n",
       "3        99878.74\n",
       "4          188.01\n",
       "           ...   \n",
       "38749     4993.49\n",
       "38750    41218.63\n",
       "38751       32.41\n",
       "38752      914.52\n",
       "38753    29076.19\n",
       "Name: Renda, Length: 38754, dtype: float64"
      ]
     },
     "execution_count": 45,
     "metadata": {},
     "output_type": "execute_result"
    }
   ],
   "source": [
    "pd.to_numeric(df_novo2['Renda'])"
   ]
  },
  {
   "cell_type": "markdown",
   "id": "31c150bf",
   "metadata": {},
   "source": [
    "Mudar os dados da coluna \"Sexo\" para Masculino e Feminino (tente usar a função map)"
   ]
  },
  {
   "cell_type": "code",
   "execution_count": 46,
   "id": "90f62a38",
   "metadata": {},
   "outputs": [],
   "source": [
    "def sex(sexo):\n",
    "    if sexo == 'Masc':\n",
    "        sexo='Masculino'\n",
    "    elif sexo =='Fem':\n",
    "        sexo='Feminino'\n",
    "    return sexo"
   ]
  },
  {
   "cell_type": "code",
   "execution_count": 47,
   "id": "6222a3be",
   "metadata": {},
   "outputs": [],
   "source": [
    "df_novo2['Sexo']= df_novo2['Sexo'].map(sex)"
   ]
  },
  {
   "cell_type": "markdown",
   "id": "81ef2a40",
   "metadata": {},
   "source": [
    "Transformar os dados da coluna Media em inteiro"
   ]
  },
  {
   "cell_type": "code",
   "execution_count": 48,
   "id": "4342d517",
   "metadata": {},
   "outputs": [],
   "source": [
    "df_novo2['Média']= df_novo2['Média'].astype(int)"
   ]
  },
  {
   "cell_type": "markdown",
   "id": "e43890dd",
   "metadata": {},
   "source": [
    "Criar coluna \"NPS\" onde o investidor é classificado como promotor se a média das notas é maior ou igual a 80, como neutro se a média estiver entre 50 e 80, e como detrator se for abaixo de 50"
   ]
  },
  {
   "cell_type": "code",
   "execution_count": 49,
   "id": "5c826ab1",
   "metadata": {},
   "outputs": [],
   "source": [
    "def classificador(num):\n",
    "    if num > 80 or num == 80:\n",
    "        num = 'promotor'\n",
    "    elif num < 80 and num > 50:\n",
    "        num = 'neutro'\n",
    "    elif num <=50:\n",
    "        num = 'detrator'\n",
    "    return num"
   ]
  },
  {
   "cell_type": "code",
   "execution_count": 50,
   "id": "237906f6",
   "metadata": {},
   "outputs": [],
   "source": [
    "df_novo2['NPS']= df_novo2['Média'].map(classificador)"
   ]
  },
  {
   "cell_type": "markdown",
   "id": "3b361b5f",
   "metadata": {},
   "source": [
    "## 8 - Calcule os seguintes dados"
   ]
  },
  {
   "cell_type": "markdown",
   "id": "3b417f5f",
   "metadata": {},
   "source": [
    "Calcule o total investido em cada coluna Ativo (tente usar o apply)"
   ]
  },
  {
   "cell_type": "code",
   "execution_count": 51,
   "id": "e01dc5ba",
   "metadata": {},
   "outputs": [
    {
     "name": "stdout",
     "output_type": "stream",
     "text": [
      "43727577.88763133\n"
     ]
    }
   ],
   "source": [
    "total=df_novo2['Ativo01'].sum()\n",
    "print(total)"
   ]
  },
  {
   "cell_type": "code",
   "execution_count": 52,
   "id": "40269035",
   "metadata": {},
   "outputs": [
    {
     "name": "stdout",
     "output_type": "stream",
     "text": [
      "199478484.76932663\n"
     ]
    }
   ],
   "source": [
    "total=df_novo2['Ativo02'].sum()\n",
    "print(total)"
   ]
  },
  {
   "cell_type": "code",
   "execution_count": 53,
   "id": "75a52906",
   "metadata": {},
   "outputs": [
    {
     "name": "stdout",
     "output_type": "stream",
     "text": [
      "121703795.23940808\n"
     ]
    }
   ],
   "source": [
    "total=df_novo2['Ativo03'].sum()\n",
    "print(total)"
   ]
  },
  {
   "cell_type": "code",
   "execution_count": 54,
   "id": "4cd141b3",
   "metadata": {},
   "outputs": [
    {
     "name": "stdout",
     "output_type": "stream",
     "text": [
      "587263521.7666942\n"
     ]
    }
   ],
   "source": [
    "total=df_novo2['Ativo04'].sum()\n",
    "print(total)"
   ]
  },
  {
   "cell_type": "code",
   "execution_count": 55,
   "id": "9e3fe1c6",
   "metadata": {},
   "outputs": [
    {
     "name": "stdout",
     "output_type": "stream",
     "text": [
      "204780858.22564092\n"
     ]
    }
   ],
   "source": [
    "total=df_novo2['Ativo05'].sum()\n",
    "print(total)"
   ]
  },
  {
   "cell_type": "code",
   "execution_count": 56,
   "id": "3e5c3e2c",
   "metadata": {},
   "outputs": [
    {
     "name": "stdout",
     "output_type": "stream",
     "text": [
      "89889280.07613346\n"
     ]
    }
   ],
   "source": [
    "total=df_novo2['Ativo06'].sum()\n",
    "print(total)"
   ]
  },
  {
   "cell_type": "code",
   "execution_count": 57,
   "id": "fb8da4c9",
   "metadata": {},
   "outputs": [
    {
     "name": "stdout",
     "output_type": "stream",
     "text": [
      "19379032.72\n"
     ]
    }
   ],
   "source": [
    "total=df_novo2['Ativo07'].sum()\n",
    "print(total)"
   ]
  },
  {
   "cell_type": "markdown",
   "id": "b2ca82f2",
   "metadata": {},
   "source": [
    "Qual o menor valor investido em cada ativo?"
   ]
  },
  {
   "cell_type": "code",
   "execution_count": 58,
   "id": "8b92b835",
   "metadata": {},
   "outputs": [
    {
     "data": {
      "text/plain": [
       "800.01"
      ]
     },
     "execution_count": 58,
     "metadata": {},
     "output_type": "execute_result"
    }
   ],
   "source": [
    "df_novo2['Ativo01'].min()"
   ]
  },
  {
   "cell_type": "code",
   "execution_count": 59,
   "id": "1d781470",
   "metadata": {},
   "outputs": [
    {
     "data": {
      "text/plain": [
       "4500.05"
      ]
     },
     "execution_count": 59,
     "metadata": {},
     "output_type": "execute_result"
    }
   ],
   "source": [
    "df_novo2['Ativo02'].min()"
   ]
  },
  {
   "cell_type": "code",
   "execution_count": 60,
   "id": "70a602e8",
   "metadata": {},
   "outputs": [
    {
     "data": {
      "text/plain": [
       "2500.01"
      ]
     },
     "execution_count": 60,
     "metadata": {},
     "output_type": "execute_result"
    }
   ],
   "source": [
    "df_novo2['Ativo03'].min()"
   ]
  },
  {
   "cell_type": "code",
   "execution_count": 61,
   "id": "ff2fa6c7",
   "metadata": {},
   "outputs": [
    {
     "data": {
      "text/plain": [
       "5000.81"
      ]
     },
     "execution_count": 61,
     "metadata": {},
     "output_type": "execute_result"
    }
   ],
   "source": [
    "df_novo2['Ativo04'].min()"
   ]
  },
  {
   "cell_type": "code",
   "execution_count": 62,
   "id": "baf1e180",
   "metadata": {},
   "outputs": [
    {
     "data": {
      "text/plain": [
       "4000.14"
      ]
     },
     "execution_count": 62,
     "metadata": {},
     "output_type": "execute_result"
    }
   ],
   "source": [
    "df_novo2['Ativo05'].min()"
   ]
  },
  {
   "cell_type": "code",
   "execution_count": 63,
   "id": "1761e920",
   "metadata": {},
   "outputs": [
    {
     "data": {
      "text/plain": [
       "2000.04"
      ]
     },
     "execution_count": 63,
     "metadata": {},
     "output_type": "execute_result"
    }
   ],
   "source": [
    "df_novo2['Ativo06'].min()"
   ]
  },
  {
   "cell_type": "code",
   "execution_count": 64,
   "id": "5174f0ff",
   "metadata": {},
   "outputs": [
    {
     "data": {
      "text/plain": [
       "462.93"
      ]
     },
     "execution_count": 64,
     "metadata": {},
     "output_type": "execute_result"
    }
   ],
   "source": [
    "df_novo2['Ativo07'].min()"
   ]
  },
  {
   "cell_type": "markdown",
   "id": "ba8f5031",
   "metadata": {},
   "source": [
    "Mostre a média e desvio padrão de cada ativo"
   ]
  },
  {
   "cell_type": "code",
   "execution_count": 65,
   "id": "5cc5d693",
   "metadata": {},
   "outputs": [
    {
     "data": {
      "text/plain": [
       "1128.3371493945572"
      ]
     },
     "execution_count": 65,
     "metadata": {},
     "output_type": "execute_result"
    }
   ],
   "source": [
    "df_novo2['Ativo01'].mean()"
   ]
  },
  {
   "cell_type": "code",
   "execution_count": 66,
   "id": "030a4e5e",
   "metadata": {},
   "outputs": [
    {
     "data": {
      "text/plain": [
       "189.39132806837256"
      ]
     },
     "execution_count": 66,
     "metadata": {},
     "output_type": "execute_result"
    }
   ],
   "source": [
    "df_novo2['Ativo01'].std()"
   ]
  },
  {
   "cell_type": "code",
   "execution_count": 67,
   "id": "e4abd28f",
   "metadata": {},
   "outputs": [
    {
     "data": {
      "text/plain": [
       "5147.3005307662215"
      ]
     },
     "execution_count": 67,
     "metadata": {},
     "output_type": "execute_result"
    }
   ],
   "source": [
    "df_novo2['Ativo02'].mean()"
   ]
  },
  {
   "cell_type": "code",
   "execution_count": 68,
   "id": "64680223",
   "metadata": {},
   "outputs": [
    {
     "data": {
      "text/plain": [
       "365.95908540752885"
      ]
     },
     "execution_count": 68,
     "metadata": {},
     "output_type": "execute_result"
    }
   ],
   "source": [
    "df_novo2['Ativo02'].std()"
   ]
  },
  {
   "cell_type": "code",
   "execution_count": 69,
   "id": "8730d58e",
   "metadata": {},
   "outputs": [
    {
     "data": {
      "text/plain": [
       "3140.41893067585"
      ]
     },
     "execution_count": 69,
     "metadata": {},
     "output_type": "execute_result"
    }
   ],
   "source": [
    "df_novo2['Ativo03'].mean()"
   ]
  },
  {
   "cell_type": "code",
   "execution_count": 70,
   "id": "bb6dcbfe",
   "metadata": {},
   "outputs": [
    {
     "data": {
      "text/plain": [
       "362.85507756774524"
      ]
     },
     "execution_count": 70,
     "metadata": {},
     "output_type": "execute_result"
    }
   ],
   "source": [
    "df_novo2['Ativo03'].std()"
   ]
  },
  {
   "cell_type": "code",
   "execution_count": 71,
   "id": "433f6957",
   "metadata": {},
   "outputs": [
    {
     "data": {
      "text/plain": [
       "15153.623413498892"
      ]
     },
     "execution_count": 71,
     "metadata": {},
     "output_type": "execute_result"
    }
   ],
   "source": [
    "df_novo2['Ativo04'].mean()"
   ]
  },
  {
   "cell_type": "code",
   "execution_count": 72,
   "id": "7c4f56db",
   "metadata": {},
   "outputs": [
    {
     "data": {
      "text/plain": [
       "5805.289652565868"
      ]
     },
     "execution_count": 72,
     "metadata": {},
     "output_type": "execute_result"
    }
   ],
   "source": [
    "df_novo2['Ativo04'].std()"
   ]
  },
  {
   "cell_type": "code",
   "execution_count": 73,
   "id": "8eea6dec",
   "metadata": {},
   "outputs": [
    {
     "data": {
      "text/plain": [
       "5284.121851309152"
      ]
     },
     "execution_count": 73,
     "metadata": {},
     "output_type": "execute_result"
    }
   ],
   "source": [
    "df_novo2['Ativo05'].mean()"
   ]
  },
  {
   "cell_type": "code",
   "execution_count": 74,
   "id": "8817ac2a",
   "metadata": {},
   "outputs": [
    {
     "data": {
      "text/plain": [
       "728.90712829182"
      ]
     },
     "execution_count": 74,
     "metadata": {},
     "output_type": "execute_result"
    }
   ],
   "source": [
    "df_novo2['Ativo05'].std()"
   ]
  },
  {
   "cell_type": "code",
   "execution_count": 75,
   "id": "b63ca840",
   "metadata": {},
   "outputs": [
    {
     "data": {
      "text/plain": [
       "2319.4839262052265"
      ]
     },
     "execution_count": 75,
     "metadata": {},
     "output_type": "execute_result"
    }
   ],
   "source": [
    "df_novo2['Ativo06'].mean()"
   ]
  },
  {
   "cell_type": "code",
   "execution_count": 76,
   "id": "5536215d",
   "metadata": {},
   "outputs": [
    {
     "data": {
      "text/plain": [
       "169.5830196475851"
      ]
     },
     "execution_count": 76,
     "metadata": {},
     "output_type": "execute_result"
    }
   ],
   "source": [
    "df_novo2['Ativo06'].std()"
   ]
  },
  {
   "cell_type": "code",
   "execution_count": 77,
   "id": "a4a2a91f",
   "metadata": {},
   "outputs": [
    {
     "data": {
      "text/plain": [
       "500.05245187593835"
      ]
     },
     "execution_count": 77,
     "metadata": {},
     "output_type": "execute_result"
    }
   ],
   "source": [
    "df_novo2['Ativo07'].mean()"
   ]
  },
  {
   "cell_type": "code",
   "execution_count": 78,
   "id": "cea1e2ab",
   "metadata": {},
   "outputs": [
    {
     "data": {
      "text/plain": [
       "9.998218104115894"
      ]
     },
     "execution_count": 78,
     "metadata": {},
     "output_type": "execute_result"
    }
   ],
   "source": [
    "df_novo2['Ativo07'].std()"
   ]
  },
  {
   "cell_type": "markdown",
   "id": "f1dbe278",
   "metadata": {},
   "source": [
    "Qual o nome e a idade do investidor mais velho?"
   ]
  },
  {
   "cell_type": "code",
   "execution_count": 79,
   "id": "6a94a9bb",
   "metadata": {},
   "outputs": [
    {
     "data": {
      "text/plain": [
       "51"
      ]
     },
     "execution_count": 79,
     "metadata": {},
     "output_type": "execute_result"
    }
   ],
   "source": [
    "df_novo2['Idade'].max() # como pode observar os investidores mais velhos possuem 51 anos"
   ]
  },
  {
   "cell_type": "code",
   "execution_count": 80,
   "id": "5bf0bb85",
   "metadata": {},
   "outputs": [],
   "source": [
    "df_mais_velhos=df_novo2.loc[df_novo2['Idade'] >50]"
   ]
  },
  {
   "cell_type": "code",
   "execution_count": 81,
   "id": "97a93095",
   "metadata": {},
   "outputs": [
    {
     "data": {
      "text/html": [
       "<div>\n",
       "<style scoped>\n",
       "    .dataframe tbody tr th:only-of-type {\n",
       "        vertical-align: middle;\n",
       "    }\n",
       "\n",
       "    .dataframe tbody tr th {\n",
       "        vertical-align: top;\n",
       "    }\n",
       "\n",
       "    .dataframe thead th {\n",
       "        text-align: right;\n",
       "    }\n",
       "</style>\n",
       "<table border=\"1\" class=\"dataframe\">\n",
       "  <thead>\n",
       "    <tr style=\"text-align: right;\">\n",
       "      <th></th>\n",
       "      <th>Nome</th>\n",
       "      <th>Idade</th>\n",
       "    </tr>\n",
       "  </thead>\n",
       "  <tbody>\n",
       "    <tr>\n",
       "      <th>0</th>\n",
       "      <td>Eunice Hellen do Vale</td>\n",
       "      <td>51</td>\n",
       "    </tr>\n",
       "    <tr>\n",
       "      <th>30</th>\n",
       "      <td>Jeniffer Vanessa de Fraga Rata</td>\n",
       "      <td>51</td>\n",
       "    </tr>\n",
       "    <tr>\n",
       "      <th>58</th>\n",
       "      <td>Emanoel Uion</td>\n",
       "      <td>51</td>\n",
       "    </tr>\n",
       "    <tr>\n",
       "      <th>87</th>\n",
       "      <td>Ronaldo da Silva do Paraná</td>\n",
       "      <td>51</td>\n",
       "    </tr>\n",
       "    <tr>\n",
       "      <th>135</th>\n",
       "      <td>Danilo da Paraíba</td>\n",
       "      <td>51</td>\n",
       "    </tr>\n",
       "    <tr>\n",
       "      <th>...</th>\n",
       "      <td>...</td>\n",
       "      <td>...</td>\n",
       "    </tr>\n",
       "    <tr>\n",
       "      <th>38478</th>\n",
       "      <td>Yeda Rosângela Rodrigues Torres</td>\n",
       "      <td>51</td>\n",
       "    </tr>\n",
       "    <tr>\n",
       "      <th>38521</th>\n",
       "      <td>Otto Victor Eirnige</td>\n",
       "      <td>51</td>\n",
       "    </tr>\n",
       "    <tr>\n",
       "      <th>38544</th>\n",
       "      <td>Marta Arlete Schneider Marques de Iglesias</td>\n",
       "      <td>51</td>\n",
       "    </tr>\n",
       "    <tr>\n",
       "      <th>38626</th>\n",
       "      <td>Marina Fátima Guerra</td>\n",
       "      <td>51</td>\n",
       "    </tr>\n",
       "    <tr>\n",
       "      <th>38630</th>\n",
       "      <td>Gilmar Jefason de Lemes</td>\n",
       "      <td>51</td>\n",
       "    </tr>\n",
       "  </tbody>\n",
       "</table>\n",
       "<p>774 rows × 2 columns</p>\n",
       "</div>"
      ],
      "text/plain": [
       "                                             Nome  Idade\n",
       "0                           Eunice Hellen do Vale     51\n",
       "30                 Jeniffer Vanessa de Fraga Rata     51\n",
       "58                                   Emanoel Uion     51\n",
       "87                     Ronaldo da Silva do Paraná     51\n",
       "135                             Danilo da Paraíba     51\n",
       "...                                           ...    ...\n",
       "38478             Yeda Rosângela Rodrigues Torres     51\n",
       "38521                         Otto Victor Eirnige     51\n",
       "38544  Marta Arlete Schneider Marques de Iglesias     51\n",
       "38626                        Marina Fátima Guerra     51\n",
       "38630                     Gilmar Jefason de Lemes     51\n",
       "\n",
       "[774 rows x 2 columns]"
      ]
     },
     "execution_count": 81,
     "metadata": {},
     "output_type": "execute_result"
    }
   ],
   "source": [
    "df_mais_velhos[['Nome','Idade']]"
   ]
  },
  {
   "cell_type": "markdown",
   "id": "5e98174c",
   "metadata": {},
   "source": [
    "Qual a mediana da coluna Média?"
   ]
  },
  {
   "cell_type": "code",
   "execution_count": 82,
   "id": "fa42afb8",
   "metadata": {},
   "outputs": [
    {
     "data": {
      "text/plain": [
       "49.0"
      ]
     },
     "execution_count": 82,
     "metadata": {},
     "output_type": "execute_result"
    }
   ],
   "source": [
    "df_novo2['Média'].median()"
   ]
  },
  {
   "cell_type": "markdown",
   "id": "e942b46b",
   "metadata": {},
   "source": [
    "## 9 - Responder as perguntas abaixo"
   ]
  },
  {
   "cell_type": "markdown",
   "id": "2e1a9e69",
   "metadata": {},
   "source": [
    "Quantos investidores são agressivos, moderados e conservadores?"
   ]
  },
  {
   "cell_type": "code",
   "execution_count": 83,
   "id": "9e733019",
   "metadata": {},
   "outputs": [
    {
     "data": {
      "text/plain": [
       "(12879, 20)"
      ]
     },
     "execution_count": 83,
     "metadata": {},
     "output_type": "execute_result"
    }
   ],
   "source": [
    "df_conservador.shape"
   ]
  },
  {
   "cell_type": "code",
   "execution_count": 84,
   "id": "80cd0509",
   "metadata": {},
   "outputs": [
    {
     "data": {
      "text/plain": [
       "(12900, 20)"
      ]
     },
     "execution_count": 84,
     "metadata": {},
     "output_type": "execute_result"
    }
   ],
   "source": [
    "df_moderado.shape"
   ]
  },
  {
   "cell_type": "code",
   "execution_count": 85,
   "id": "0385ff2a",
   "metadata": {},
   "outputs": [
    {
     "data": {
      "text/plain": [
       "(12975, 20)"
      ]
     },
     "execution_count": 85,
     "metadata": {},
     "output_type": "execute_result"
    }
   ],
   "source": [
    "df_agressivo.shape"
   ]
  },
  {
   "cell_type": "markdown",
   "id": "e9c42e44",
   "metadata": {},
   "source": [
    "Mostre os 10 primeiros ids dos investidores de perfil Agressivo e Moderado."
   ]
  },
  {
   "cell_type": "code",
   "execution_count": 86,
   "id": "8daf4155",
   "metadata": {},
   "outputs": [
    {
     "data": {
      "text/plain": [
       "0     id0000001\n",
       "1     id0000002\n",
       "6     id0000007\n",
       "10    id0000011\n",
       "14    id0000015\n",
       "18    id0000019\n",
       "21    id0000022\n",
       "23    id0000024\n",
       "25    id0000026\n",
       "31    id0000032\n",
       "Name: Índice, dtype: object"
      ]
     },
     "execution_count": 86,
     "metadata": {},
     "output_type": "execute_result"
    }
   ],
   "source": [
    "df_moderado['Índice'].head(10)"
   ]
  },
  {
   "cell_type": "code",
   "execution_count": 87,
   "id": "2da251f5",
   "metadata": {},
   "outputs": [
    {
     "data": {
      "text/plain": [
       "2     id0000003\n",
       "3     id0000004\n",
       "5     id0000006\n",
       "7     id0000008\n",
       "8     id0000009\n",
       "9     id0000010\n",
       "11    id0000012\n",
       "13    id0000014\n",
       "15    id0000016\n",
       "19    id0000020\n",
       "Name: Índice, dtype: object"
      ]
     },
     "execution_count": 87,
     "metadata": {},
     "output_type": "execute_result"
    }
   ],
   "source": [
    "df_agressivo['Índice'].head(10)"
   ]
  },
  {
   "cell_type": "markdown",
   "id": "20c0c0fd",
   "metadata": {},
   "source": [
    "Quantos investidores são do sexo feminino?"
   ]
  },
  {
   "cell_type": "code",
   "execution_count": 88,
   "id": "217dfb74",
   "metadata": {},
   "outputs": [
    {
     "data": {
      "text/plain": [
       "(19385, 24)"
      ]
     },
     "execution_count": 88,
     "metadata": {},
     "output_type": "execute_result"
    }
   ],
   "source": [
    "df_fem= df_novo2.loc[df_novo2['Sexo']=='Feminino']\n",
    "df_fem.shape"
   ]
  },
  {
   "cell_type": "markdown",
   "id": "7098483b",
   "metadata": {},
   "source": [
    "Quantos investidores investiram mais de 16000 no Ativo04?"
   ]
  },
  {
   "cell_type": "code",
   "execution_count": 89,
   "id": "52472d8a",
   "metadata": {},
   "outputs": [
    {
     "data": {
      "text/html": [
       "<div>\n",
       "<style scoped>\n",
       "    .dataframe tbody tr th:only-of-type {\n",
       "        vertical-align: middle;\n",
       "    }\n",
       "\n",
       "    .dataframe tbody tr th {\n",
       "        vertical-align: top;\n",
       "    }\n",
       "\n",
       "    .dataframe thead th {\n",
       "        text-align: right;\n",
       "    }\n",
       "</style>\n",
       "<table border=\"1\" class=\"dataframe\">\n",
       "  <thead>\n",
       "    <tr style=\"text-align: right;\">\n",
       "      <th></th>\n",
       "      <th>Índice</th>\n",
       "      <th>Nome</th>\n",
       "      <th>Sexo</th>\n",
       "      <th>Nasc</th>\n",
       "      <th>Idade</th>\n",
       "      <th>Email</th>\n",
       "      <th>Lat_long</th>\n",
       "      <th>Job</th>\n",
       "      <th>Estado</th>\n",
       "      <th>Renda</th>\n",
       "      <th>...</th>\n",
       "      <th>Ativo04</th>\n",
       "      <th>Ativo05</th>\n",
       "      <th>Ativo06</th>\n",
       "      <th>Ativo07</th>\n",
       "      <th>Nota1</th>\n",
       "      <th>Nota2</th>\n",
       "      <th>Total</th>\n",
       "      <th>Média</th>\n",
       "      <th>Dominio</th>\n",
       "      <th>NPS</th>\n",
       "    </tr>\n",
       "  </thead>\n",
       "  <tbody>\n",
       "    <tr>\n",
       "      <th>4</th>\n",
       "      <td>id0000005</td>\n",
       "      <td>Rose Elisângela Vyrnium de Moura</td>\n",
       "      <td>Feminino</td>\n",
       "      <td>1984-06-10</td>\n",
       "      <td>37</td>\n",
       "      <td>crawfordcraig@yahoo.com</td>\n",
       "      <td>(Decimal('-20.2620885'), Decimal('104.349223'))</td>\n",
       "      <td>Chartered public finance accountant</td>\n",
       "      <td>MS</td>\n",
       "      <td>188.01</td>\n",
       "      <td>...</td>\n",
       "      <td>30841.35</td>\n",
       "      <td>6044.860000</td>\n",
       "      <td>2198.890000</td>\n",
       "      <td>512.98</td>\n",
       "      <td>14.463307</td>\n",
       "      <td>33.566292</td>\n",
       "      <td>50981.210000</td>\n",
       "      <td>24</td>\n",
       "      <td>yahoo.com</td>\n",
       "      <td>detrator</td>\n",
       "    </tr>\n",
       "    <tr>\n",
       "      <th>6</th>\n",
       "      <td>id0000007</td>\n",
       "      <td>Andressa de Menezes</td>\n",
       "      <td>Feminino</td>\n",
       "      <td>2000-03-09</td>\n",
       "      <td>21</td>\n",
       "      <td>pdouglas@yahoo.com</td>\n",
       "      <td>(Decimal('-15.3220025'), Decimal('-143.141478'))</td>\n",
       "      <td>Learning mentor</td>\n",
       "      <td>RO</td>\n",
       "      <td>9.26</td>\n",
       "      <td>...</td>\n",
       "      <td>22760.80</td>\n",
       "      <td>6342.310000</td>\n",
       "      <td>2450.480000</td>\n",
       "      <td>490.12</td>\n",
       "      <td>11.933962</td>\n",
       "      <td>29.765772</td>\n",
       "      <td>41269.630000</td>\n",
       "      <td>20</td>\n",
       "      <td>yahoo.com</td>\n",
       "      <td>detrator</td>\n",
       "    </tr>\n",
       "    <tr>\n",
       "      <th>7</th>\n",
       "      <td>id0000008</td>\n",
       "      <td>Roger da Silva</td>\n",
       "      <td>Masculino</td>\n",
       "      <td>2012-12-04</td>\n",
       "      <td>9</td>\n",
       "      <td>idavis@hotmail.com</td>\n",
       "      <td>(Decimal('26.852207'), Decimal('154.834424'))</td>\n",
       "      <td>Garment/textile technologist</td>\n",
       "      <td>RS</td>\n",
       "      <td>1.13</td>\n",
       "      <td>...</td>\n",
       "      <td>16247.26</td>\n",
       "      <td>5291.529534</td>\n",
       "      <td>2282.500000</td>\n",
       "      <td>496.43</td>\n",
       "      <td>76.898096</td>\n",
       "      <td>43.554774</td>\n",
       "      <td>33182.963677</td>\n",
       "      <td>60</td>\n",
       "      <td>hotmail.com</td>\n",
       "      <td>neutro</td>\n",
       "    </tr>\n",
       "    <tr>\n",
       "      <th>8</th>\n",
       "      <td>id0000009</td>\n",
       "      <td>Paulo de Toledo</td>\n",
       "      <td>Masculino</td>\n",
       "      <td>1996-12-05</td>\n",
       "      <td>25</td>\n",
       "      <td>raymonderic@gmail.com</td>\n",
       "      <td>(Decimal('6.098341'), Decimal('-156.689139'))</td>\n",
       "      <td>Designer, exhibition/display</td>\n",
       "      <td>DF</td>\n",
       "      <td>557.91</td>\n",
       "      <td>...</td>\n",
       "      <td>18690.63</td>\n",
       "      <td>5040.740000</td>\n",
       "      <td>2777.620000</td>\n",
       "      <td>500.43</td>\n",
       "      <td>45.322387</td>\n",
       "      <td>62.157044</td>\n",
       "      <td>36243.200000</td>\n",
       "      <td>53</td>\n",
       "      <td>gmail.com</td>\n",
       "      <td>neutro</td>\n",
       "    </tr>\n",
       "    <tr>\n",
       "      <th>9</th>\n",
       "      <td>id0000010</td>\n",
       "      <td>Quirino Max dos Santos</td>\n",
       "      <td>Masculino</td>\n",
       "      <td>1974-02-08</td>\n",
       "      <td>47</td>\n",
       "      <td>patrick65@yahoo.com</td>\n",
       "      <td>(Decimal('37.9226295'), Decimal('30.582043'))</td>\n",
       "      <td>Air broker</td>\n",
       "      <td>RR</td>\n",
       "      <td>801.24</td>\n",
       "      <td>...</td>\n",
       "      <td>21298.94</td>\n",
       "      <td>4818.910000</td>\n",
       "      <td>2027.570000</td>\n",
       "      <td>500.59</td>\n",
       "      <td>53.824813</td>\n",
       "      <td>10.415551</td>\n",
       "      <td>38033.850000</td>\n",
       "      <td>32</td>\n",
       "      <td>yahoo.com</td>\n",
       "      <td>detrator</td>\n",
       "    </tr>\n",
       "    <tr>\n",
       "      <th>...</th>\n",
       "      <td>...</td>\n",
       "      <td>...</td>\n",
       "      <td>...</td>\n",
       "      <td>...</td>\n",
       "      <td>...</td>\n",
       "      <td>...</td>\n",
       "      <td>...</td>\n",
       "      <td>...</td>\n",
       "      <td>...</td>\n",
       "      <td>...</td>\n",
       "      <td>...</td>\n",
       "      <td>...</td>\n",
       "      <td>...</td>\n",
       "      <td>...</td>\n",
       "      <td>...</td>\n",
       "      <td>...</td>\n",
       "      <td>...</td>\n",
       "      <td>...</td>\n",
       "      <td>...</td>\n",
       "      <td>...</td>\n",
       "      <td>...</td>\n",
       "    </tr>\n",
       "    <tr>\n",
       "      <th>38738</th>\n",
       "      <td>id0038739</td>\n",
       "      <td>Celina Faeima</td>\n",
       "      <td>Feminino</td>\n",
       "      <td>1981-12-04</td>\n",
       "      <td>40</td>\n",
       "      <td>garyluna@gmail.com</td>\n",
       "      <td>(Decimal('44.091570'), Decimal('73.962037'))</td>\n",
       "      <td>Conservation officer, nature</td>\n",
       "      <td>AP</td>\n",
       "      <td>63.99</td>\n",
       "      <td>...</td>\n",
       "      <td>17078.58</td>\n",
       "      <td>4830.440000</td>\n",
       "      <td>2321.031421</td>\n",
       "      <td>500.59</td>\n",
       "      <td>0.396150</td>\n",
       "      <td>52.045951</td>\n",
       "      <td>34545.091421</td>\n",
       "      <td>26</td>\n",
       "      <td>gmail.com</td>\n",
       "      <td>detrator</td>\n",
       "    </tr>\n",
       "    <tr>\n",
       "      <th>38741</th>\n",
       "      <td>id0038742</td>\n",
       "      <td>Érica Suzy Raeoã</td>\n",
       "      <td>Feminino</td>\n",
       "      <td>2000-06-01</td>\n",
       "      <td>21</td>\n",
       "      <td>elizabethrobinson@gmail.com</td>\n",
       "      <td>(Decimal('2.8160925'), Decimal('-49.085082'))</td>\n",
       "      <td>Energy engineer</td>\n",
       "      <td>AL</td>\n",
       "      <td>14.35</td>\n",
       "      <td>...</td>\n",
       "      <td>17170.42</td>\n",
       "      <td>4283.660000</td>\n",
       "      <td>2321.362143</td>\n",
       "      <td>501.33</td>\n",
       "      <td>93.844274</td>\n",
       "      <td>50.075481</td>\n",
       "      <td>33252.092143</td>\n",
       "      <td>71</td>\n",
       "      <td>gmail.com</td>\n",
       "      <td>neutro</td>\n",
       "    </tr>\n",
       "    <tr>\n",
       "      <th>38745</th>\n",
       "      <td>id0038746</td>\n",
       "      <td>Paula de Lemes</td>\n",
       "      <td>Feminino</td>\n",
       "      <td>1992-08-06</td>\n",
       "      <td>29</td>\n",
       "      <td>reynoldsjennifer@gmail.com</td>\n",
       "      <td>(Decimal('-62.8648515'), Decimal('-177.577584'))</td>\n",
       "      <td>Trade union research officer</td>\n",
       "      <td>RJ</td>\n",
       "      <td>487.06</td>\n",
       "      <td>...</td>\n",
       "      <td>19323.07</td>\n",
       "      <td>6605.230000</td>\n",
       "      <td>2164.760000</td>\n",
       "      <td>510.60</td>\n",
       "      <td>63.315414</td>\n",
       "      <td>50.381290</td>\n",
       "      <td>38693.130000</td>\n",
       "      <td>56</td>\n",
       "      <td>gmail.com</td>\n",
       "      <td>neutro</td>\n",
       "    </tr>\n",
       "    <tr>\n",
       "      <th>38748</th>\n",
       "      <td>id0038749</td>\n",
       "      <td>Martin Mike Ocai</td>\n",
       "      <td>Masculino</td>\n",
       "      <td>1988-11-29</td>\n",
       "      <td>33</td>\n",
       "      <td>walshshelley@yahoo.com</td>\n",
       "      <td>(Decimal('-7.399055'), Decimal('125.807816'))</td>\n",
       "      <td>Ranger/warden</td>\n",
       "      <td>MT</td>\n",
       "      <td>7172.41</td>\n",
       "      <td>...</td>\n",
       "      <td>17341.08</td>\n",
       "      <td>4866.520000</td>\n",
       "      <td>2049.560000</td>\n",
       "      <td>498.69</td>\n",
       "      <td>52.664288</td>\n",
       "      <td>73.101865</td>\n",
       "      <td>33625.594047</td>\n",
       "      <td>62</td>\n",
       "      <td>yahoo.com</td>\n",
       "      <td>neutro</td>\n",
       "    </tr>\n",
       "    <tr>\n",
       "      <th>38753</th>\n",
       "      <td>id0038754</td>\n",
       "      <td>Vinícius Arnaldo de Pereira Mendes</td>\n",
       "      <td>Masculino</td>\n",
       "      <td>2003-09-13</td>\n",
       "      <td>18</td>\n",
       "      <td>omartinez@hotmail.com</td>\n",
       "      <td>(Decimal('-37.248521'), Decimal('6.033254'))</td>\n",
       "      <td>Pension scheme manager</td>\n",
       "      <td>AL</td>\n",
       "      <td>29076.19</td>\n",
       "      <td>...</td>\n",
       "      <td>18085.88</td>\n",
       "      <td>5161.070000</td>\n",
       "      <td>2257.660000</td>\n",
       "      <td>507.95</td>\n",
       "      <td>29.660050</td>\n",
       "      <td>47.371606</td>\n",
       "      <td>34961.309280</td>\n",
       "      <td>38</td>\n",
       "      <td>hotmail.com</td>\n",
       "      <td>detrator</td>\n",
       "    </tr>\n",
       "  </tbody>\n",
       "</table>\n",
       "<p>10689 rows × 24 columns</p>\n",
       "</div>"
      ],
      "text/plain": [
       "          Índice                                Nome       Sexo        Nasc  \\\n",
       "4      id0000005    Rose Elisângela Vyrnium de Moura   Feminino  1984-06-10   \n",
       "6      id0000007                 Andressa de Menezes   Feminino  2000-03-09   \n",
       "7      id0000008                      Roger da Silva  Masculino  2012-12-04   \n",
       "8      id0000009                     Paulo de Toledo  Masculino  1996-12-05   \n",
       "9      id0000010              Quirino Max dos Santos  Masculino  1974-02-08   \n",
       "...          ...                                 ...        ...         ...   \n",
       "38738  id0038739                       Celina Faeima   Feminino  1981-12-04   \n",
       "38741  id0038742                    Érica Suzy Raeoã   Feminino  2000-06-01   \n",
       "38745  id0038746                      Paula de Lemes   Feminino  1992-08-06   \n",
       "38748  id0038749                    Martin Mike Ocai  Masculino  1988-11-29   \n",
       "38753  id0038754  Vinícius Arnaldo de Pereira Mendes  Masculino  2003-09-13   \n",
       "\n",
       "       Idade                        Email  \\\n",
       "4         37      crawfordcraig@yahoo.com   \n",
       "6         21           pdouglas@yahoo.com   \n",
       "7          9           idavis@hotmail.com   \n",
       "8         25        raymonderic@gmail.com   \n",
       "9         47          patrick65@yahoo.com   \n",
       "...      ...                          ...   \n",
       "38738     40           garyluna@gmail.com   \n",
       "38741     21  elizabethrobinson@gmail.com   \n",
       "38745     29   reynoldsjennifer@gmail.com   \n",
       "38748     33       walshshelley@yahoo.com   \n",
       "38753     18        omartinez@hotmail.com   \n",
       "\n",
       "                                               Lat_long  \\\n",
       "4       (Decimal('-20.2620885'), Decimal('104.349223'))   \n",
       "6      (Decimal('-15.3220025'), Decimal('-143.141478'))   \n",
       "7         (Decimal('26.852207'), Decimal('154.834424'))   \n",
       "8         (Decimal('6.098341'), Decimal('-156.689139'))   \n",
       "9         (Decimal('37.9226295'), Decimal('30.582043'))   \n",
       "...                                                 ...   \n",
       "38738      (Decimal('44.091570'), Decimal('73.962037'))   \n",
       "38741     (Decimal('2.8160925'), Decimal('-49.085082'))   \n",
       "38745  (Decimal('-62.8648515'), Decimal('-177.577584'))   \n",
       "38748     (Decimal('-7.399055'), Decimal('125.807816'))   \n",
       "38753      (Decimal('-37.248521'), Decimal('6.033254'))   \n",
       "\n",
       "                                       Job Estado     Renda  ...   Ativo04  \\\n",
       "4      Chartered public finance accountant     MS    188.01  ...  30841.35   \n",
       "6                          Learning mentor     RO      9.26  ...  22760.80   \n",
       "7             Garment/textile technologist     RS      1.13  ...  16247.26   \n",
       "8             Designer, exhibition/display     DF    557.91  ...  18690.63   \n",
       "9                               Air broker     RR    801.24  ...  21298.94   \n",
       "...                                    ...    ...       ...  ...       ...   \n",
       "38738         Conservation officer, nature     AP     63.99  ...  17078.58   \n",
       "38741                      Energy engineer     AL     14.35  ...  17170.42   \n",
       "38745         Trade union research officer     RJ    487.06  ...  19323.07   \n",
       "38748                        Ranger/warden     MT   7172.41  ...  17341.08   \n",
       "38753               Pension scheme manager     AL  29076.19  ...  18085.88   \n",
       "\n",
       "           Ativo05      Ativo06  Ativo07      Nota1      Nota2         Total  \\\n",
       "4      6044.860000  2198.890000   512.98  14.463307  33.566292  50981.210000   \n",
       "6      6342.310000  2450.480000   490.12  11.933962  29.765772  41269.630000   \n",
       "7      5291.529534  2282.500000   496.43  76.898096  43.554774  33182.963677   \n",
       "8      5040.740000  2777.620000   500.43  45.322387  62.157044  36243.200000   \n",
       "9      4818.910000  2027.570000   500.59  53.824813  10.415551  38033.850000   \n",
       "...            ...          ...      ...        ...        ...           ...   \n",
       "38738  4830.440000  2321.031421   500.59   0.396150  52.045951  34545.091421   \n",
       "38741  4283.660000  2321.362143   501.33  93.844274  50.075481  33252.092143   \n",
       "38745  6605.230000  2164.760000   510.60  63.315414  50.381290  38693.130000   \n",
       "38748  4866.520000  2049.560000   498.69  52.664288  73.101865  33625.594047   \n",
       "38753  5161.070000  2257.660000   507.95  29.660050  47.371606  34961.309280   \n",
       "\n",
       "       Média      Dominio       NPS  \n",
       "4         24    yahoo.com  detrator  \n",
       "6         20    yahoo.com  detrator  \n",
       "7         60  hotmail.com    neutro  \n",
       "8         53    gmail.com    neutro  \n",
       "9         32    yahoo.com  detrator  \n",
       "...      ...          ...       ...  \n",
       "38738     26    gmail.com  detrator  \n",
       "38741     71    gmail.com    neutro  \n",
       "38745     56    gmail.com    neutro  \n",
       "38748     62    yahoo.com    neutro  \n",
       "38753     38  hotmail.com  detrator  \n",
       "\n",
       "[10689 rows x 24 columns]"
      ]
     },
     "execution_count": 89,
     "metadata": {},
     "output_type": "execute_result"
    }
   ],
   "source": [
    "df_novo2.loc[df_novo2['Ativo04'] > 16000]"
   ]
  },
  {
   "cell_type": "markdown",
   "id": "102170a4",
   "metadata": {},
   "source": [
    "Quantos investidores investiram mais de 16000 no Ativo04 e menos de 5000 no Ativo05?"
   ]
  },
  {
   "cell_type": "code",
   "execution_count": 90,
   "id": "63416857",
   "metadata": {},
   "outputs": [
    {
     "data": {
      "text/html": [
       "<div>\n",
       "<style scoped>\n",
       "    .dataframe tbody tr th:only-of-type {\n",
       "        vertical-align: middle;\n",
       "    }\n",
       "\n",
       "    .dataframe tbody tr th {\n",
       "        vertical-align: top;\n",
       "    }\n",
       "\n",
       "    .dataframe thead th {\n",
       "        text-align: right;\n",
       "    }\n",
       "</style>\n",
       "<table border=\"1\" class=\"dataframe\">\n",
       "  <thead>\n",
       "    <tr style=\"text-align: right;\">\n",
       "      <th></th>\n",
       "      <th>Índice</th>\n",
       "      <th>Nome</th>\n",
       "      <th>Sexo</th>\n",
       "      <th>Nasc</th>\n",
       "      <th>Idade</th>\n",
       "      <th>Email</th>\n",
       "      <th>Lat_long</th>\n",
       "      <th>Job</th>\n",
       "      <th>Estado</th>\n",
       "      <th>Renda</th>\n",
       "      <th>...</th>\n",
       "      <th>Ativo04</th>\n",
       "      <th>Ativo05</th>\n",
       "      <th>Ativo06</th>\n",
       "      <th>Ativo07</th>\n",
       "      <th>Nota1</th>\n",
       "      <th>Nota2</th>\n",
       "      <th>Total</th>\n",
       "      <th>Média</th>\n",
       "      <th>Dominio</th>\n",
       "      <th>NPS</th>\n",
       "    </tr>\n",
       "  </thead>\n",
       "  <tbody>\n",
       "    <tr>\n",
       "      <th>9</th>\n",
       "      <td>id0000010</td>\n",
       "      <td>Quirino Max dos Santos</td>\n",
       "      <td>Masculino</td>\n",
       "      <td>1974-02-08</td>\n",
       "      <td>47</td>\n",
       "      <td>patrick65@yahoo.com</td>\n",
       "      <td>(Decimal('37.9226295'), Decimal('30.582043'))</td>\n",
       "      <td>Air broker</td>\n",
       "      <td>RR</td>\n",
       "      <td>801.24</td>\n",
       "      <td>...</td>\n",
       "      <td>21298.94</td>\n",
       "      <td>4818.91</td>\n",
       "      <td>2027.570000</td>\n",
       "      <td>500.59</td>\n",
       "      <td>53.824813</td>\n",
       "      <td>10.415551</td>\n",
       "      <td>38033.850000</td>\n",
       "      <td>32</td>\n",
       "      <td>yahoo.com</td>\n",
       "      <td>detrator</td>\n",
       "    </tr>\n",
       "    <tr>\n",
       "      <th>15</th>\n",
       "      <td>id0000016</td>\n",
       "      <td>Sílvio Baltazar da Costa dos Santos</td>\n",
       "      <td>Masculino</td>\n",
       "      <td>1989-07-01</td>\n",
       "      <td>32</td>\n",
       "      <td>carterashley@yahoo.com</td>\n",
       "      <td>(Decimal('-45.978957'), Decimal('-21.700752'))</td>\n",
       "      <td>Curator</td>\n",
       "      <td>MG</td>\n",
       "      <td>6.89</td>\n",
       "      <td>...</td>\n",
       "      <td>19114.69</td>\n",
       "      <td>4207.58</td>\n",
       "      <td>2231.580000</td>\n",
       "      <td>497.45</td>\n",
       "      <td>94.645555</td>\n",
       "      <td>60.630805</td>\n",
       "      <td>35414.700000</td>\n",
       "      <td>77</td>\n",
       "      <td>yahoo.com</td>\n",
       "      <td>neutro</td>\n",
       "    </tr>\n",
       "    <tr>\n",
       "      <th>35</th>\n",
       "      <td>id0000036</td>\n",
       "      <td>Helder Furnyrawo de Paula</td>\n",
       "      <td>Masculino</td>\n",
       "      <td>1978-03-02</td>\n",
       "      <td>43</td>\n",
       "      <td>veronicaarellano@yahoo.com</td>\n",
       "      <td>(Decimal('63.353283'), Decimal('-155.687315'))</td>\n",
       "      <td>Further education lecturer</td>\n",
       "      <td>PR</td>\n",
       "      <td>6.37</td>\n",
       "      <td>...</td>\n",
       "      <td>21979.34</td>\n",
       "      <td>4157.66</td>\n",
       "      <td>2321.031421</td>\n",
       "      <td>491.15</td>\n",
       "      <td>0.163430</td>\n",
       "      <td>50.487457</td>\n",
       "      <td>39338.311421</td>\n",
       "      <td>25</td>\n",
       "      <td>yahoo.com</td>\n",
       "      <td>detrator</td>\n",
       "    </tr>\n",
       "    <tr>\n",
       "      <th>44</th>\n",
       "      <td>id0000045</td>\n",
       "      <td>Samara Irnocliza</td>\n",
       "      <td>Feminino</td>\n",
       "      <td>2009-12-08</td>\n",
       "      <td>12</td>\n",
       "      <td>nathan55@gmail.com</td>\n",
       "      <td>(Decimal('-7.048226'), Decimal('-155.127318'))</td>\n",
       "      <td>Holiday representative</td>\n",
       "      <td>PR</td>\n",
       "      <td>54.49</td>\n",
       "      <td>...</td>\n",
       "      <td>16512.83</td>\n",
       "      <td>4425.03</td>\n",
       "      <td>2059.610000</td>\n",
       "      <td>493.57</td>\n",
       "      <td>73.559211</td>\n",
       "      <td>52.859882</td>\n",
       "      <td>32640.943544</td>\n",
       "      <td>63</td>\n",
       "      <td>gmail.com</td>\n",
       "      <td>neutro</td>\n",
       "    </tr>\n",
       "    <tr>\n",
       "      <th>79</th>\n",
       "      <td>id0000080</td>\n",
       "      <td>Zeca Fatomcry</td>\n",
       "      <td>Masculino</td>\n",
       "      <td>2004-04-25</td>\n",
       "      <td>17</td>\n",
       "      <td>sherrimunoz@gmail.com</td>\n",
       "      <td>(Decimal('-9.862870'), Decimal('-79.385522'))</td>\n",
       "      <td>General practice doctor</td>\n",
       "      <td>ES</td>\n",
       "      <td>431.53</td>\n",
       "      <td>...</td>\n",
       "      <td>24183.18</td>\n",
       "      <td>4439.24</td>\n",
       "      <td>2208.410000</td>\n",
       "      <td>511.99</td>\n",
       "      <td>9.477874</td>\n",
       "      <td>56.339586</td>\n",
       "      <td>41114.704047</td>\n",
       "      <td>32</td>\n",
       "      <td>gmail.com</td>\n",
       "      <td>detrator</td>\n",
       "    </tr>\n",
       "    <tr>\n",
       "      <th>...</th>\n",
       "      <td>...</td>\n",
       "      <td>...</td>\n",
       "      <td>...</td>\n",
       "      <td>...</td>\n",
       "      <td>...</td>\n",
       "      <td>...</td>\n",
       "      <td>...</td>\n",
       "      <td>...</td>\n",
       "      <td>...</td>\n",
       "      <td>...</td>\n",
       "      <td>...</td>\n",
       "      <td>...</td>\n",
       "      <td>...</td>\n",
       "      <td>...</td>\n",
       "      <td>...</td>\n",
       "      <td>...</td>\n",
       "      <td>...</td>\n",
       "      <td>...</td>\n",
       "      <td>...</td>\n",
       "      <td>...</td>\n",
       "      <td>...</td>\n",
       "    </tr>\n",
       "    <tr>\n",
       "      <th>38722</th>\n",
       "      <td>id0038723</td>\n",
       "      <td>Anderson Sosdro de Trindade</td>\n",
       "      <td>Masculino</td>\n",
       "      <td>1985-12-19</td>\n",
       "      <td>36</td>\n",
       "      <td>johnalvarado@gmail.com</td>\n",
       "      <td>(Decimal('-56.949242'), Decimal('-97.476435'))</td>\n",
       "      <td>Adult nurse</td>\n",
       "      <td>PI</td>\n",
       "      <td>5335.62</td>\n",
       "      <td>...</td>\n",
       "      <td>20651.14</td>\n",
       "      <td>4462.57</td>\n",
       "      <td>2095.310000</td>\n",
       "      <td>497.98</td>\n",
       "      <td>98.730645</td>\n",
       "      <td>54.370547</td>\n",
       "      <td>37016.333544</td>\n",
       "      <td>76</td>\n",
       "      <td>gmail.com</td>\n",
       "      <td>neutro</td>\n",
       "    </tr>\n",
       "    <tr>\n",
       "      <th>38730</th>\n",
       "      <td>id0038731</td>\n",
       "      <td>Sérgio Luigi de Cabral da Cruz</td>\n",
       "      <td>Masculino</td>\n",
       "      <td>2020-11-23</td>\n",
       "      <td>1</td>\n",
       "      <td>luis48@hotmail.com</td>\n",
       "      <td>(Decimal('-46.9546995'), Decimal('-99.211209'))</td>\n",
       "      <td>Soil scientist</td>\n",
       "      <td>DF</td>\n",
       "      <td>16.29</td>\n",
       "      <td>...</td>\n",
       "      <td>16288.00</td>\n",
       "      <td>4584.91</td>\n",
       "      <td>2082.760000</td>\n",
       "      <td>502.26</td>\n",
       "      <td>26.959960</td>\n",
       "      <td>19.850953</td>\n",
       "      <td>32884.318281</td>\n",
       "      <td>23</td>\n",
       "      <td>hotmail.com</td>\n",
       "      <td>detrator</td>\n",
       "    </tr>\n",
       "    <tr>\n",
       "      <th>38738</th>\n",
       "      <td>id0038739</td>\n",
       "      <td>Celina Faeima</td>\n",
       "      <td>Feminino</td>\n",
       "      <td>1981-12-04</td>\n",
       "      <td>40</td>\n",
       "      <td>garyluna@gmail.com</td>\n",
       "      <td>(Decimal('44.091570'), Decimal('73.962037'))</td>\n",
       "      <td>Conservation officer, nature</td>\n",
       "      <td>AP</td>\n",
       "      <td>63.99</td>\n",
       "      <td>...</td>\n",
       "      <td>17078.58</td>\n",
       "      <td>4830.44</td>\n",
       "      <td>2321.031421</td>\n",
       "      <td>500.59</td>\n",
       "      <td>0.396150</td>\n",
       "      <td>52.045951</td>\n",
       "      <td>34545.091421</td>\n",
       "      <td>26</td>\n",
       "      <td>gmail.com</td>\n",
       "      <td>detrator</td>\n",
       "    </tr>\n",
       "    <tr>\n",
       "      <th>38741</th>\n",
       "      <td>id0038742</td>\n",
       "      <td>Érica Suzy Raeoã</td>\n",
       "      <td>Feminino</td>\n",
       "      <td>2000-06-01</td>\n",
       "      <td>21</td>\n",
       "      <td>elizabethrobinson@gmail.com</td>\n",
       "      <td>(Decimal('2.8160925'), Decimal('-49.085082'))</td>\n",
       "      <td>Energy engineer</td>\n",
       "      <td>AL</td>\n",
       "      <td>14.35</td>\n",
       "      <td>...</td>\n",
       "      <td>17170.42</td>\n",
       "      <td>4283.66</td>\n",
       "      <td>2321.362143</td>\n",
       "      <td>501.33</td>\n",
       "      <td>93.844274</td>\n",
       "      <td>50.075481</td>\n",
       "      <td>33252.092143</td>\n",
       "      <td>71</td>\n",
       "      <td>gmail.com</td>\n",
       "      <td>neutro</td>\n",
       "    </tr>\n",
       "    <tr>\n",
       "      <th>38748</th>\n",
       "      <td>id0038749</td>\n",
       "      <td>Martin Mike Ocai</td>\n",
       "      <td>Masculino</td>\n",
       "      <td>1988-11-29</td>\n",
       "      <td>33</td>\n",
       "      <td>walshshelley@yahoo.com</td>\n",
       "      <td>(Decimal('-7.399055'), Decimal('125.807816'))</td>\n",
       "      <td>Ranger/warden</td>\n",
       "      <td>MT</td>\n",
       "      <td>7172.41</td>\n",
       "      <td>...</td>\n",
       "      <td>17341.08</td>\n",
       "      <td>4866.52</td>\n",
       "      <td>2049.560000</td>\n",
       "      <td>498.69</td>\n",
       "      <td>52.664288</td>\n",
       "      <td>73.101865</td>\n",
       "      <td>33625.594047</td>\n",
       "      <td>62</td>\n",
       "      <td>yahoo.com</td>\n",
       "      <td>neutro</td>\n",
       "    </tr>\n",
       "  </tbody>\n",
       "</table>\n",
       "<p>3684 rows × 24 columns</p>\n",
       "</div>"
      ],
      "text/plain": [
       "          Índice                                 Nome       Sexo        Nasc  \\\n",
       "9      id0000010               Quirino Max dos Santos  Masculino  1974-02-08   \n",
       "15     id0000016  Sílvio Baltazar da Costa dos Santos  Masculino  1989-07-01   \n",
       "35     id0000036            Helder Furnyrawo de Paula  Masculino  1978-03-02   \n",
       "44     id0000045                     Samara Irnocliza   Feminino  2009-12-08   \n",
       "79     id0000080                        Zeca Fatomcry  Masculino  2004-04-25   \n",
       "...          ...                                  ...        ...         ...   \n",
       "38722  id0038723          Anderson Sosdro de Trindade  Masculino  1985-12-19   \n",
       "38730  id0038731       Sérgio Luigi de Cabral da Cruz  Masculino  2020-11-23   \n",
       "38738  id0038739                        Celina Faeima   Feminino  1981-12-04   \n",
       "38741  id0038742                     Érica Suzy Raeoã   Feminino  2000-06-01   \n",
       "38748  id0038749                     Martin Mike Ocai  Masculino  1988-11-29   \n",
       "\n",
       "       Idade                        Email  \\\n",
       "9         47          patrick65@yahoo.com   \n",
       "15        32       carterashley@yahoo.com   \n",
       "35        43   veronicaarellano@yahoo.com   \n",
       "44        12           nathan55@gmail.com   \n",
       "79        17        sherrimunoz@gmail.com   \n",
       "...      ...                          ...   \n",
       "38722     36       johnalvarado@gmail.com   \n",
       "38730      1           luis48@hotmail.com   \n",
       "38738     40           garyluna@gmail.com   \n",
       "38741     21  elizabethrobinson@gmail.com   \n",
       "38748     33       walshshelley@yahoo.com   \n",
       "\n",
       "                                              Lat_long  \\\n",
       "9        (Decimal('37.9226295'), Decimal('30.582043'))   \n",
       "15      (Decimal('-45.978957'), Decimal('-21.700752'))   \n",
       "35      (Decimal('63.353283'), Decimal('-155.687315'))   \n",
       "44      (Decimal('-7.048226'), Decimal('-155.127318'))   \n",
       "79       (Decimal('-9.862870'), Decimal('-79.385522'))   \n",
       "...                                                ...   \n",
       "38722   (Decimal('-56.949242'), Decimal('-97.476435'))   \n",
       "38730  (Decimal('-46.9546995'), Decimal('-99.211209'))   \n",
       "38738     (Decimal('44.091570'), Decimal('73.962037'))   \n",
       "38741    (Decimal('2.8160925'), Decimal('-49.085082'))   \n",
       "38748    (Decimal('-7.399055'), Decimal('125.807816'))   \n",
       "\n",
       "                                Job Estado    Renda  ...   Ativo04  Ativo05  \\\n",
       "9                        Air broker     RR   801.24  ...  21298.94  4818.91   \n",
       "15                          Curator     MG     6.89  ...  19114.69  4207.58   \n",
       "35       Further education lecturer     PR     6.37  ...  21979.34  4157.66   \n",
       "44           Holiday representative     PR    54.49  ...  16512.83  4425.03   \n",
       "79          General practice doctor     ES   431.53  ...  24183.18  4439.24   \n",
       "...                             ...    ...      ...  ...       ...      ...   \n",
       "38722                   Adult nurse     PI  5335.62  ...  20651.14  4462.57   \n",
       "38730                Soil scientist     DF    16.29  ...  16288.00  4584.91   \n",
       "38738  Conservation officer, nature     AP    63.99  ...  17078.58  4830.44   \n",
       "38741               Energy engineer     AL    14.35  ...  17170.42  4283.66   \n",
       "38748                 Ranger/warden     MT  7172.41  ...  17341.08  4866.52   \n",
       "\n",
       "           Ativo06  Ativo07      Nota1      Nota2         Total  Média  \\\n",
       "9      2027.570000   500.59  53.824813  10.415551  38033.850000     32   \n",
       "15     2231.580000   497.45  94.645555  60.630805  35414.700000     77   \n",
       "35     2321.031421   491.15   0.163430  50.487457  39338.311421     25   \n",
       "44     2059.610000   493.57  73.559211  52.859882  32640.943544     63   \n",
       "79     2208.410000   511.99   9.477874  56.339586  41114.704047     32   \n",
       "...            ...      ...        ...        ...           ...    ...   \n",
       "38722  2095.310000   497.98  98.730645  54.370547  37016.333544     76   \n",
       "38730  2082.760000   502.26  26.959960  19.850953  32884.318281     23   \n",
       "38738  2321.031421   500.59   0.396150  52.045951  34545.091421     26   \n",
       "38741  2321.362143   501.33  93.844274  50.075481  33252.092143     71   \n",
       "38748  2049.560000   498.69  52.664288  73.101865  33625.594047     62   \n",
       "\n",
       "           Dominio       NPS  \n",
       "9        yahoo.com  detrator  \n",
       "15       yahoo.com    neutro  \n",
       "35       yahoo.com  detrator  \n",
       "44       gmail.com    neutro  \n",
       "79       gmail.com  detrator  \n",
       "...            ...       ...  \n",
       "38722    gmail.com    neutro  \n",
       "38730  hotmail.com  detrator  \n",
       "38738    gmail.com  detrator  \n",
       "38741    gmail.com    neutro  \n",
       "38748    yahoo.com    neutro  \n",
       "\n",
       "[3684 rows x 24 columns]"
      ]
     },
     "execution_count": 90,
     "metadata": {},
     "output_type": "execute_result"
    }
   ],
   "source": [
    "df_novo2.loc[df_novo2['Ativo04'] > 16000 ].loc[df_novo2['Ativo05'] < 5000]"
   ]
  },
  {
   "cell_type": "markdown",
   "id": "5b221fee",
   "metadata": {},
   "source": [
    "Quais investidores do sexo feminino tem mais de 25 anos e seu investimento total foi menor que 10000?"
   ]
  },
  {
   "cell_type": "code",
   "execution_count": 91,
   "id": "fc860a43",
   "metadata": {},
   "outputs": [
    {
     "data": {
      "text/html": [
       "<div>\n",
       "<style scoped>\n",
       "    .dataframe tbody tr th:only-of-type {\n",
       "        vertical-align: middle;\n",
       "    }\n",
       "\n",
       "    .dataframe tbody tr th {\n",
       "        vertical-align: top;\n",
       "    }\n",
       "\n",
       "    .dataframe thead th {\n",
       "        text-align: right;\n",
       "    }\n",
       "</style>\n",
       "<table border=\"1\" class=\"dataframe\">\n",
       "  <thead>\n",
       "    <tr style=\"text-align: right;\">\n",
       "      <th></th>\n",
       "      <th>Índice</th>\n",
       "      <th>Nome</th>\n",
       "      <th>Sexo</th>\n",
       "      <th>Nasc</th>\n",
       "      <th>Idade</th>\n",
       "      <th>Email</th>\n",
       "      <th>Lat_long</th>\n",
       "      <th>Job</th>\n",
       "      <th>Estado</th>\n",
       "      <th>Renda</th>\n",
       "      <th>...</th>\n",
       "      <th>Ativo04</th>\n",
       "      <th>Ativo05</th>\n",
       "      <th>Ativo06</th>\n",
       "      <th>Ativo07</th>\n",
       "      <th>Nota1</th>\n",
       "      <th>Nota2</th>\n",
       "      <th>Total</th>\n",
       "      <th>Média</th>\n",
       "      <th>Dominio</th>\n",
       "      <th>NPS</th>\n",
       "    </tr>\n",
       "  </thead>\n",
       "  <tbody>\n",
       "  </tbody>\n",
       "</table>\n",
       "<p>0 rows × 24 columns</p>\n",
       "</div>"
      ],
      "text/plain": [
       "Empty DataFrame\n",
       "Columns: [Índice, Nome, Sexo, Nasc, Idade, Email, Lat_long, Job, Estado, Renda, Perfil, Ativo01, Ativo02, Ativo03, Ativo04, Ativo05, Ativo06, Ativo07, Nota1, Nota2, Total, Média, Dominio, NPS]\n",
       "Index: []\n",
       "\n",
       "[0 rows x 24 columns]"
      ]
     },
     "execution_count": 91,
     "metadata": {},
     "output_type": "execute_result"
    }
   ],
   "source": [
    "df_fem.loc[df_fem['Idade'] > 25].loc[df_fem['Total'] < 10000]"
   ]
  },
  {
   "cell_type": "markdown",
   "id": "04f7719b",
   "metadata": {},
   "source": [
    "Quantos investidores tem em cada estado (dica: use groupby)"
   ]
  },
  {
   "cell_type": "code",
   "execution_count": 102,
   "id": "62c37fd8",
   "metadata": {},
   "outputs": [
    {
     "data": {
      "text/html": [
       "<div>\n",
       "<style scoped>\n",
       "    .dataframe tbody tr th:only-of-type {\n",
       "        vertical-align: middle;\n",
       "    }\n",
       "\n",
       "    .dataframe tbody tr th {\n",
       "        vertical-align: top;\n",
       "    }\n",
       "\n",
       "    .dataframe thead th {\n",
       "        text-align: right;\n",
       "    }\n",
       "</style>\n",
       "<table border=\"1\" class=\"dataframe\">\n",
       "  <thead>\n",
       "    <tr style=\"text-align: right;\">\n",
       "      <th></th>\n",
       "      <th>Estado</th>\n",
       "    </tr>\n",
       "    <tr>\n",
       "      <th>Estado</th>\n",
       "      <th></th>\n",
       "    </tr>\n",
       "  </thead>\n",
       "  <tbody>\n",
       "    <tr>\n",
       "      <th>AC</th>\n",
       "      <td>1435</td>\n",
       "    </tr>\n",
       "    <tr>\n",
       "      <th>AL</th>\n",
       "      <td>1376</td>\n",
       "    </tr>\n",
       "    <tr>\n",
       "      <th>AM</th>\n",
       "      <td>1495</td>\n",
       "    </tr>\n",
       "    <tr>\n",
       "      <th>AP</th>\n",
       "      <td>1438</td>\n",
       "    </tr>\n",
       "    <tr>\n",
       "      <th>BA</th>\n",
       "      <td>1484</td>\n",
       "    </tr>\n",
       "    <tr>\n",
       "      <th>CE</th>\n",
       "      <td>1465</td>\n",
       "    </tr>\n",
       "    <tr>\n",
       "      <th>DF</th>\n",
       "      <td>1470</td>\n",
       "    </tr>\n",
       "    <tr>\n",
       "      <th>ES</th>\n",
       "      <td>1472</td>\n",
       "    </tr>\n",
       "    <tr>\n",
       "      <th>GO</th>\n",
       "      <td>1394</td>\n",
       "    </tr>\n",
       "    <tr>\n",
       "      <th>MA</th>\n",
       "      <td>1454</td>\n",
       "    </tr>\n",
       "    <tr>\n",
       "      <th>MG</th>\n",
       "      <td>1407</td>\n",
       "    </tr>\n",
       "    <tr>\n",
       "      <th>MS</th>\n",
       "      <td>1436</td>\n",
       "    </tr>\n",
       "    <tr>\n",
       "      <th>MT</th>\n",
       "      <td>1390</td>\n",
       "    </tr>\n",
       "    <tr>\n",
       "      <th>PA</th>\n",
       "      <td>1421</td>\n",
       "    </tr>\n",
       "    <tr>\n",
       "      <th>PB</th>\n",
       "      <td>1405</td>\n",
       "    </tr>\n",
       "    <tr>\n",
       "      <th>PE</th>\n",
       "      <td>1477</td>\n",
       "    </tr>\n",
       "    <tr>\n",
       "      <th>PI</th>\n",
       "      <td>1503</td>\n",
       "    </tr>\n",
       "    <tr>\n",
       "      <th>PR</th>\n",
       "      <td>1371</td>\n",
       "    </tr>\n",
       "    <tr>\n",
       "      <th>RJ</th>\n",
       "      <td>1466</td>\n",
       "    </tr>\n",
       "    <tr>\n",
       "      <th>RN</th>\n",
       "      <td>1472</td>\n",
       "    </tr>\n",
       "    <tr>\n",
       "      <th>RO</th>\n",
       "      <td>1440</td>\n",
       "    </tr>\n",
       "    <tr>\n",
       "      <th>RR</th>\n",
       "      <td>1495</td>\n",
       "    </tr>\n",
       "    <tr>\n",
       "      <th>RS</th>\n",
       "      <td>1393</td>\n",
       "    </tr>\n",
       "    <tr>\n",
       "      <th>SC</th>\n",
       "      <td>1430</td>\n",
       "    </tr>\n",
       "    <tr>\n",
       "      <th>SE</th>\n",
       "      <td>1319</td>\n",
       "    </tr>\n",
       "    <tr>\n",
       "      <th>SP</th>\n",
       "      <td>1464</td>\n",
       "    </tr>\n",
       "    <tr>\n",
       "      <th>TO</th>\n",
       "      <td>1382</td>\n",
       "    </tr>\n",
       "  </tbody>\n",
       "</table>\n",
       "</div>"
      ],
      "text/plain": [
       "        Estado\n",
       "Estado        \n",
       "AC        1435\n",
       "AL        1376\n",
       "AM        1495\n",
       "AP        1438\n",
       "BA        1484\n",
       "CE        1465\n",
       "DF        1470\n",
       "ES        1472\n",
       "GO        1394\n",
       "MA        1454\n",
       "MG        1407\n",
       "MS        1436\n",
       "MT        1390\n",
       "PA        1421\n",
       "PB        1405\n",
       "PE        1477\n",
       "PI        1503\n",
       "PR        1371\n",
       "RJ        1466\n",
       "RN        1472\n",
       "RO        1440\n",
       "RR        1495\n",
       "RS        1393\n",
       "SC        1430\n",
       "SE        1319\n",
       "SP        1464\n",
       "TO        1382"
      ]
     },
     "execution_count": 102,
     "metadata": {},
     "output_type": "execute_result"
    }
   ],
   "source": [
    "df_novo2.groupby('Estado').agg({'Estado':'count'})"
   ]
  },
  {
   "cell_type": "markdown",
   "id": "e7e3ba32",
   "metadata": {},
   "source": [
    "Qual é a soma do total investido por cada estado?"
   ]
  },
  {
   "cell_type": "code",
   "execution_count": 100,
   "id": "cbeb46ff",
   "metadata": {},
   "outputs": [
    {
     "data": {
      "text/html": [
       "<div>\n",
       "<style scoped>\n",
       "    .dataframe tbody tr th:only-of-type {\n",
       "        vertical-align: middle;\n",
       "    }\n",
       "\n",
       "    .dataframe tbody tr th {\n",
       "        vertical-align: top;\n",
       "    }\n",
       "\n",
       "    .dataframe thead th {\n",
       "        text-align: right;\n",
       "    }\n",
       "</style>\n",
       "<table border=\"1\" class=\"dataframe\">\n",
       "  <thead>\n",
       "    <tr style=\"text-align: right;\">\n",
       "      <th></th>\n",
       "      <th>Total</th>\n",
       "    </tr>\n",
       "    <tr>\n",
       "      <th>Estado</th>\n",
       "      <th></th>\n",
       "    </tr>\n",
       "  </thead>\n",
       "  <tbody>\n",
       "    <tr>\n",
       "      <th>AC</th>\n",
       "      <td>4.674985e+07</td>\n",
       "    </tr>\n",
       "    <tr>\n",
       "      <th>AL</th>\n",
       "      <td>4.501931e+07</td>\n",
       "    </tr>\n",
       "    <tr>\n",
       "      <th>AM</th>\n",
       "      <td>4.886444e+07</td>\n",
       "    </tr>\n",
       "    <tr>\n",
       "      <th>AP</th>\n",
       "      <td>4.704521e+07</td>\n",
       "    </tr>\n",
       "    <tr>\n",
       "      <th>BA</th>\n",
       "      <td>4.823423e+07</td>\n",
       "    </tr>\n",
       "    <tr>\n",
       "      <th>CE</th>\n",
       "      <td>4.779125e+07</td>\n",
       "    </tr>\n",
       "    <tr>\n",
       "      <th>DF</th>\n",
       "      <td>4.844561e+07</td>\n",
       "    </tr>\n",
       "    <tr>\n",
       "      <th>ES</th>\n",
       "      <td>4.802692e+07</td>\n",
       "    </tr>\n",
       "    <tr>\n",
       "      <th>GO</th>\n",
       "      <td>4.594628e+07</td>\n",
       "    </tr>\n",
       "    <tr>\n",
       "      <th>MA</th>\n",
       "      <td>4.727332e+07</td>\n",
       "    </tr>\n",
       "    <tr>\n",
       "      <th>MG</th>\n",
       "      <td>4.568168e+07</td>\n",
       "    </tr>\n",
       "    <tr>\n",
       "      <th>MS</th>\n",
       "      <td>4.719181e+07</td>\n",
       "    </tr>\n",
       "    <tr>\n",
       "      <th>MT</th>\n",
       "      <td>4.570453e+07</td>\n",
       "    </tr>\n",
       "    <tr>\n",
       "      <th>PA</th>\n",
       "      <td>4.657696e+07</td>\n",
       "    </tr>\n",
       "    <tr>\n",
       "      <th>PB</th>\n",
       "      <td>4.606147e+07</td>\n",
       "    </tr>\n",
       "    <tr>\n",
       "      <th>PE</th>\n",
       "      <td>4.785101e+07</td>\n",
       "    </tr>\n",
       "    <tr>\n",
       "      <th>PI</th>\n",
       "      <td>4.929435e+07</td>\n",
       "    </tr>\n",
       "    <tr>\n",
       "      <th>PR</th>\n",
       "      <td>4.465534e+07</td>\n",
       "    </tr>\n",
       "    <tr>\n",
       "      <th>RJ</th>\n",
       "      <td>4.811225e+07</td>\n",
       "    </tr>\n",
       "    <tr>\n",
       "      <th>RN</th>\n",
       "      <td>4.806196e+07</td>\n",
       "    </tr>\n",
       "    <tr>\n",
       "      <th>RO</th>\n",
       "      <td>4.668877e+07</td>\n",
       "    </tr>\n",
       "    <tr>\n",
       "      <th>RR</th>\n",
       "      <td>4.880889e+07</td>\n",
       "    </tr>\n",
       "    <tr>\n",
       "      <th>RS</th>\n",
       "      <td>4.536568e+07</td>\n",
       "    </tr>\n",
       "    <tr>\n",
       "      <th>SC</th>\n",
       "      <td>4.674451e+07</td>\n",
       "    </tr>\n",
       "    <tr>\n",
       "      <th>SE</th>\n",
       "      <td>4.337527e+07</td>\n",
       "    </tr>\n",
       "    <tr>\n",
       "      <th>SP</th>\n",
       "      <td>4.749646e+07</td>\n",
       "    </tr>\n",
       "    <tr>\n",
       "      <th>TO</th>\n",
       "      <td>4.515521e+07</td>\n",
       "    </tr>\n",
       "  </tbody>\n",
       "</table>\n",
       "</div>"
      ],
      "text/plain": [
       "               Total\n",
       "Estado              \n",
       "AC      4.674985e+07\n",
       "AL      4.501931e+07\n",
       "AM      4.886444e+07\n",
       "AP      4.704521e+07\n",
       "BA      4.823423e+07\n",
       "CE      4.779125e+07\n",
       "DF      4.844561e+07\n",
       "ES      4.802692e+07\n",
       "GO      4.594628e+07\n",
       "MA      4.727332e+07\n",
       "MG      4.568168e+07\n",
       "MS      4.719181e+07\n",
       "MT      4.570453e+07\n",
       "PA      4.657696e+07\n",
       "PB      4.606147e+07\n",
       "PE      4.785101e+07\n",
       "PI      4.929435e+07\n",
       "PR      4.465534e+07\n",
       "RJ      4.811225e+07\n",
       "RN      4.806196e+07\n",
       "RO      4.668877e+07\n",
       "RR      4.880889e+07\n",
       "RS      4.536568e+07\n",
       "SC      4.674451e+07\n",
       "SE      4.337527e+07\n",
       "SP      4.749646e+07\n",
       "TO      4.515521e+07"
      ]
     },
     "execution_count": 100,
     "metadata": {},
     "output_type": "execute_result"
    }
   ],
   "source": [
    "df_novo2.groupby('Estado').agg({'Total':'sum'})"
   ]
  },
  {
   "cell_type": "markdown",
   "id": "85539035",
   "metadata": {},
   "source": [
    "Qual é a média do total investido por promotores, detratores e neutros? E como se dividem nos estados"
   ]
  },
  {
   "cell_type": "code",
   "execution_count": 114,
   "id": "4b39eec6",
   "metadata": {},
   "outputs": [
    {
     "data": {
      "text/html": [
       "<div>\n",
       "<style scoped>\n",
       "    .dataframe tbody tr th:only-of-type {\n",
       "        vertical-align: middle;\n",
       "    }\n",
       "\n",
       "    .dataframe tbody tr th {\n",
       "        vertical-align: top;\n",
       "    }\n",
       "\n",
       "    .dataframe thead th {\n",
       "        text-align: right;\n",
       "    }\n",
       "</style>\n",
       "<table border=\"1\" class=\"dataframe\">\n",
       "  <thead>\n",
       "    <tr style=\"text-align: right;\">\n",
       "      <th></th>\n",
       "      <th></th>\n",
       "      <th>Total</th>\n",
       "    </tr>\n",
       "    <tr>\n",
       "      <th>Estado</th>\n",
       "      <th>NPS</th>\n",
       "      <th></th>\n",
       "    </tr>\n",
       "  </thead>\n",
       "  <tbody>\n",
       "    <tr>\n",
       "      <th rowspan=\"3\" valign=\"top\">AC</th>\n",
       "      <th>detrator</th>\n",
       "      <td>32623.350848</td>\n",
       "    </tr>\n",
       "    <tr>\n",
       "      <th>neutro</th>\n",
       "      <td>32401.142484</td>\n",
       "    </tr>\n",
       "    <tr>\n",
       "      <th>promotor</th>\n",
       "      <td>33335.873056</td>\n",
       "    </tr>\n",
       "    <tr>\n",
       "      <th rowspan=\"2\" valign=\"top\">AL</th>\n",
       "      <th>detrator</th>\n",
       "      <td>32702.623150</td>\n",
       "    </tr>\n",
       "    <tr>\n",
       "      <th>neutro</th>\n",
       "      <td>32723.871931</td>\n",
       "    </tr>\n",
       "    <tr>\n",
       "      <th>...</th>\n",
       "      <th>...</th>\n",
       "      <td>...</td>\n",
       "    </tr>\n",
       "    <tr>\n",
       "      <th rowspan=\"2\" valign=\"top\">SP</th>\n",
       "      <th>neutro</th>\n",
       "      <td>32406.563762</td>\n",
       "    </tr>\n",
       "    <tr>\n",
       "      <th>promotor</th>\n",
       "      <td>32400.154825</td>\n",
       "    </tr>\n",
       "    <tr>\n",
       "      <th rowspan=\"3\" valign=\"top\">TO</th>\n",
       "      <th>detrator</th>\n",
       "      <td>32532.562615</td>\n",
       "    </tr>\n",
       "    <tr>\n",
       "      <th>neutro</th>\n",
       "      <td>32908.988347</td>\n",
       "    </tr>\n",
       "    <tr>\n",
       "      <th>promotor</th>\n",
       "      <td>32363.448275</td>\n",
       "    </tr>\n",
       "  </tbody>\n",
       "</table>\n",
       "<p>81 rows × 1 columns</p>\n",
       "</div>"
      ],
      "text/plain": [
       "                        Total\n",
       "Estado NPS                   \n",
       "AC     detrator  32623.350848\n",
       "       neutro    32401.142484\n",
       "       promotor  33335.873056\n",
       "AL     detrator  32702.623150\n",
       "       neutro    32723.871931\n",
       "...                       ...\n",
       "SP     neutro    32406.563762\n",
       "       promotor  32400.154825\n",
       "TO     detrator  32532.562615\n",
       "       neutro    32908.988347\n",
       "       promotor  32363.448275\n",
       "\n",
       "[81 rows x 1 columns]"
      ]
     },
     "execution_count": 114,
     "metadata": {},
     "output_type": "execute_result"
    }
   ],
   "source": [
    "df_novo2.groupby(['Estado','NPS']).agg({'Total':'mean'})"
   ]
  },
  {
   "cell_type": "markdown",
   "id": "742a3972",
   "metadata": {},
   "source": [
    "Crie 3 colunas \"dummies\" do perfil dos investidores"
   ]
  },
  {
   "cell_type": "code",
   "execution_count": 115,
   "id": "eacb3d72",
   "metadata": {},
   "outputs": [],
   "source": [
    "df_novo2[['Conservador','Moderado','Agressivo']] = pd.get_dummies(df_novo2['NPS'])"
   ]
  },
  {
   "cell_type": "code",
   "execution_count": 116,
   "id": "3016f481",
   "metadata": {},
   "outputs": [
    {
     "data": {
      "text/html": [
       "<div>\n",
       "<style scoped>\n",
       "    .dataframe tbody tr th:only-of-type {\n",
       "        vertical-align: middle;\n",
       "    }\n",
       "\n",
       "    .dataframe tbody tr th {\n",
       "        vertical-align: top;\n",
       "    }\n",
       "\n",
       "    .dataframe thead th {\n",
       "        text-align: right;\n",
       "    }\n",
       "</style>\n",
       "<table border=\"1\" class=\"dataframe\">\n",
       "  <thead>\n",
       "    <tr style=\"text-align: right;\">\n",
       "      <th></th>\n",
       "      <th>Índice</th>\n",
       "      <th>Nome</th>\n",
       "      <th>Sexo</th>\n",
       "      <th>Nasc</th>\n",
       "      <th>Idade</th>\n",
       "      <th>Email</th>\n",
       "      <th>Lat_long</th>\n",
       "      <th>Job</th>\n",
       "      <th>Estado</th>\n",
       "      <th>Renda</th>\n",
       "      <th>...</th>\n",
       "      <th>Ativo07</th>\n",
       "      <th>Nota1</th>\n",
       "      <th>Nota2</th>\n",
       "      <th>Total</th>\n",
       "      <th>Média</th>\n",
       "      <th>Dominio</th>\n",
       "      <th>NPS</th>\n",
       "      <th>Conservador</th>\n",
       "      <th>Moderado</th>\n",
       "      <th>Agressivo</th>\n",
       "    </tr>\n",
       "  </thead>\n",
       "  <tbody>\n",
       "    <tr>\n",
       "      <th>0</th>\n",
       "      <td>id0000001</td>\n",
       "      <td>Eunice Hellen do Vale</td>\n",
       "      <td>Feminino</td>\n",
       "      <td>1970-11-12</td>\n",
       "      <td>51</td>\n",
       "      <td>djones@yahoo.com</td>\n",
       "      <td>(Decimal('24.7024355'), Decimal('-28.038258'))</td>\n",
       "      <td>Technical author</td>\n",
       "      <td>TO</td>\n",
       "      <td>63.67</td>\n",
       "      <td>...</td>\n",
       "      <td>480.72</td>\n",
       "      <td>79.600372</td>\n",
       "      <td>9.802620</td>\n",
       "      <td>31234.776561</td>\n",
       "      <td>44</td>\n",
       "      <td>yahoo.com</td>\n",
       "      <td>detrator</td>\n",
       "      <td>1</td>\n",
       "      <td>0</td>\n",
       "      <td>0</td>\n",
       "    </tr>\n",
       "    <tr>\n",
       "      <th>1</th>\n",
       "      <td>id0000002</td>\n",
       "      <td>Sebastião Castelo Branco Júnior</td>\n",
       "      <td>Masculino</td>\n",
       "      <td>2019-12-10</td>\n",
       "      <td>2</td>\n",
       "      <td>barnesandrea@yahoo.com</td>\n",
       "      <td>(Decimal('21.8589875'), Decimal('122.830566'))</td>\n",
       "      <td>Biochemist, clinical</td>\n",
       "      <td>DF</td>\n",
       "      <td>21.96</td>\n",
       "      <td>...</td>\n",
       "      <td>504.17</td>\n",
       "      <td>44.406893</td>\n",
       "      <td>90.512871</td>\n",
       "      <td>33772.586561</td>\n",
       "      <td>67</td>\n",
       "      <td>yahoo.com</td>\n",
       "      <td>neutro</td>\n",
       "      <td>0</td>\n",
       "      <td>1</td>\n",
       "      <td>0</td>\n",
       "    </tr>\n",
       "    <tr>\n",
       "      <th>2</th>\n",
       "      <td>id0000003</td>\n",
       "      <td>Romildo Fábio de Carvalho</td>\n",
       "      <td>Masculino</td>\n",
       "      <td>2015-12-28</td>\n",
       "      <td>6</td>\n",
       "      <td>walkermichael@yahoo.com</td>\n",
       "      <td>(Decimal('-28.2161525'), Decimal('97.140529'))</td>\n",
       "      <td>Development worker, international aid</td>\n",
       "      <td>DF</td>\n",
       "      <td>62497.64</td>\n",
       "      <td>...</td>\n",
       "      <td>523.12</td>\n",
       "      <td>44.020024</td>\n",
       "      <td>65.060941</td>\n",
       "      <td>32759.398560</td>\n",
       "      <td>54</td>\n",
       "      <td>yahoo.com</td>\n",
       "      <td>neutro</td>\n",
       "      <td>0</td>\n",
       "      <td>1</td>\n",
       "      <td>0</td>\n",
       "    </tr>\n",
       "    <tr>\n",
       "      <th>3</th>\n",
       "      <td>id0000004</td>\n",
       "      <td>Lana Albina de Lemos Mumy</td>\n",
       "      <td>Feminino</td>\n",
       "      <td>1993-05-03</td>\n",
       "      <td>28</td>\n",
       "      <td>cobbangela@hotmail.com</td>\n",
       "      <td>(Decimal('-40.8557635'), Decimal('-2.936099'))</td>\n",
       "      <td>Estate manager/land agent</td>\n",
       "      <td>DF</td>\n",
       "      <td>99878.74</td>\n",
       "      <td>...</td>\n",
       "      <td>486.05</td>\n",
       "      <td>25.597924</td>\n",
       "      <td>86.548918</td>\n",
       "      <td>34092.154845</td>\n",
       "      <td>56</td>\n",
       "      <td>hotmail.com</td>\n",
       "      <td>neutro</td>\n",
       "      <td>0</td>\n",
       "      <td>1</td>\n",
       "      <td>0</td>\n",
       "    </tr>\n",
       "    <tr>\n",
       "      <th>4</th>\n",
       "      <td>id0000005</td>\n",
       "      <td>Rose Elisângela Vyrnium de Moura</td>\n",
       "      <td>Feminino</td>\n",
       "      <td>1984-06-10</td>\n",
       "      <td>37</td>\n",
       "      <td>crawfordcraig@yahoo.com</td>\n",
       "      <td>(Decimal('-20.2620885'), Decimal('104.349223'))</td>\n",
       "      <td>Chartered public finance accountant</td>\n",
       "      <td>MS</td>\n",
       "      <td>188.01</td>\n",
       "      <td>...</td>\n",
       "      <td>512.98</td>\n",
       "      <td>14.463307</td>\n",
       "      <td>33.566292</td>\n",
       "      <td>50981.210000</td>\n",
       "      <td>24</td>\n",
       "      <td>yahoo.com</td>\n",
       "      <td>detrator</td>\n",
       "      <td>1</td>\n",
       "      <td>0</td>\n",
       "      <td>0</td>\n",
       "    </tr>\n",
       "    <tr>\n",
       "      <th>...</th>\n",
       "      <td>...</td>\n",
       "      <td>...</td>\n",
       "      <td>...</td>\n",
       "      <td>...</td>\n",
       "      <td>...</td>\n",
       "      <td>...</td>\n",
       "      <td>...</td>\n",
       "      <td>...</td>\n",
       "      <td>...</td>\n",
       "      <td>...</td>\n",
       "      <td>...</td>\n",
       "      <td>...</td>\n",
       "      <td>...</td>\n",
       "      <td>...</td>\n",
       "      <td>...</td>\n",
       "      <td>...</td>\n",
       "      <td>...</td>\n",
       "      <td>...</td>\n",
       "      <td>...</td>\n",
       "      <td>...</td>\n",
       "      <td>...</td>\n",
       "    </tr>\n",
       "    <tr>\n",
       "      <th>38749</th>\n",
       "      <td>id0038750</td>\n",
       "      <td>Beatriz Maísa de Miranda Milani</td>\n",
       "      <td>Feminino</td>\n",
       "      <td>1999-02-20</td>\n",
       "      <td>22</td>\n",
       "      <td>mark47@gmail.com</td>\n",
       "      <td>(Decimal('-23.8494875'), Decimal('-91.561304'))</td>\n",
       "      <td>Further education lecturer</td>\n",
       "      <td>RS</td>\n",
       "      <td>4993.49</td>\n",
       "      <td>...</td>\n",
       "      <td>489.76</td>\n",
       "      <td>66.644257</td>\n",
       "      <td>6.462871</td>\n",
       "      <td>26127.124955</td>\n",
       "      <td>36</td>\n",
       "      <td>gmail.com</td>\n",
       "      <td>detrator</td>\n",
       "      <td>1</td>\n",
       "      <td>0</td>\n",
       "      <td>0</td>\n",
       "    </tr>\n",
       "    <tr>\n",
       "      <th>38750</th>\n",
       "      <td>id0038751</td>\n",
       "      <td>Juan dos Santos</td>\n",
       "      <td>Masculino</td>\n",
       "      <td>1999-07-10</td>\n",
       "      <td>22</td>\n",
       "      <td>greggnguyen@hotmail.com</td>\n",
       "      <td>(Decimal('-7.8876355'), Decimal('155.835880'))</td>\n",
       "      <td>Adult guidance worker</td>\n",
       "      <td>PI</td>\n",
       "      <td>41218.63</td>\n",
       "      <td>...</td>\n",
       "      <td>496.02</td>\n",
       "      <td>96.987294</td>\n",
       "      <td>72.333030</td>\n",
       "      <td>28532.990000</td>\n",
       "      <td>84</td>\n",
       "      <td>hotmail.com</td>\n",
       "      <td>promotor</td>\n",
       "      <td>0</td>\n",
       "      <td>0</td>\n",
       "      <td>1</td>\n",
       "    </tr>\n",
       "    <tr>\n",
       "      <th>38751</th>\n",
       "      <td>id0038752</td>\n",
       "      <td>Severino Edson de Viana Loase</td>\n",
       "      <td>Masculino</td>\n",
       "      <td>1981-12-01</td>\n",
       "      <td>40</td>\n",
       "      <td>cindy11@yahoo.com</td>\n",
       "      <td>(Decimal('-52.1338005'), Decimal('-59.715325'))</td>\n",
       "      <td>Arts development officer</td>\n",
       "      <td>PR</td>\n",
       "      <td>32.41</td>\n",
       "      <td>...</td>\n",
       "      <td>504.32</td>\n",
       "      <td>32.139610</td>\n",
       "      <td>22.742974</td>\n",
       "      <td>34639.718560</td>\n",
       "      <td>27</td>\n",
       "      <td>yahoo.com</td>\n",
       "      <td>detrator</td>\n",
       "      <td>1</td>\n",
       "      <td>0</td>\n",
       "      <td>0</td>\n",
       "    </tr>\n",
       "    <tr>\n",
       "      <th>38752</th>\n",
       "      <td>id0038753</td>\n",
       "      <td>Kim Mooshi</td>\n",
       "      <td>Masculino</td>\n",
       "      <td>1999-12-06</td>\n",
       "      <td>22</td>\n",
       "      <td>mcdonaldmario@gmail.com</td>\n",
       "      <td>(Decimal('-81.2874995'), Decimal('-28.805800'))</td>\n",
       "      <td>Production manager</td>\n",
       "      <td>RJ</td>\n",
       "      <td>914.52</td>\n",
       "      <td>...</td>\n",
       "      <td>500.65</td>\n",
       "      <td>98.385080</td>\n",
       "      <td>56.611838</td>\n",
       "      <td>32039.903089</td>\n",
       "      <td>77</td>\n",
       "      <td>gmail.com</td>\n",
       "      <td>neutro</td>\n",
       "      <td>0</td>\n",
       "      <td>1</td>\n",
       "      <td>0</td>\n",
       "    </tr>\n",
       "    <tr>\n",
       "      <th>38753</th>\n",
       "      <td>id0038754</td>\n",
       "      <td>Vinícius Arnaldo de Pereira Mendes</td>\n",
       "      <td>Masculino</td>\n",
       "      <td>2003-09-13</td>\n",
       "      <td>18</td>\n",
       "      <td>omartinez@hotmail.com</td>\n",
       "      <td>(Decimal('-37.248521'), Decimal('6.033254'))</td>\n",
       "      <td>Pension scheme manager</td>\n",
       "      <td>AL</td>\n",
       "      <td>29076.19</td>\n",
       "      <td>...</td>\n",
       "      <td>507.95</td>\n",
       "      <td>29.660050</td>\n",
       "      <td>47.371606</td>\n",
       "      <td>34961.309280</td>\n",
       "      <td>38</td>\n",
       "      <td>hotmail.com</td>\n",
       "      <td>detrator</td>\n",
       "      <td>1</td>\n",
       "      <td>0</td>\n",
       "      <td>0</td>\n",
       "    </tr>\n",
       "  </tbody>\n",
       "</table>\n",
       "<p>38754 rows × 27 columns</p>\n",
       "</div>"
      ],
      "text/plain": [
       "          Índice                                Nome       Sexo        Nasc  \\\n",
       "0      id0000001               Eunice Hellen do Vale   Feminino  1970-11-12   \n",
       "1      id0000002     Sebastião Castelo Branco Júnior  Masculino  2019-12-10   \n",
       "2      id0000003           Romildo Fábio de Carvalho  Masculino  2015-12-28   \n",
       "3      id0000004           Lana Albina de Lemos Mumy   Feminino  1993-05-03   \n",
       "4      id0000005    Rose Elisângela Vyrnium de Moura   Feminino  1984-06-10   \n",
       "...          ...                                 ...        ...         ...   \n",
       "38749  id0038750     Beatriz Maísa de Miranda Milani   Feminino  1999-02-20   \n",
       "38750  id0038751                     Juan dos Santos  Masculino  1999-07-10   \n",
       "38751  id0038752       Severino Edson de Viana Loase  Masculino  1981-12-01   \n",
       "38752  id0038753                          Kim Mooshi  Masculino  1999-12-06   \n",
       "38753  id0038754  Vinícius Arnaldo de Pereira Mendes  Masculino  2003-09-13   \n",
       "\n",
       "       Idade                    Email  \\\n",
       "0         51         djones@yahoo.com   \n",
       "1          2   barnesandrea@yahoo.com   \n",
       "2          6  walkermichael@yahoo.com   \n",
       "3         28   cobbangela@hotmail.com   \n",
       "4         37  crawfordcraig@yahoo.com   \n",
       "...      ...                      ...   \n",
       "38749     22         mark47@gmail.com   \n",
       "38750     22  greggnguyen@hotmail.com   \n",
       "38751     40        cindy11@yahoo.com   \n",
       "38752     22  mcdonaldmario@gmail.com   \n",
       "38753     18    omartinez@hotmail.com   \n",
       "\n",
       "                                              Lat_long  \\\n",
       "0       (Decimal('24.7024355'), Decimal('-28.038258'))   \n",
       "1       (Decimal('21.8589875'), Decimal('122.830566'))   \n",
       "2       (Decimal('-28.2161525'), Decimal('97.140529'))   \n",
       "3       (Decimal('-40.8557635'), Decimal('-2.936099'))   \n",
       "4      (Decimal('-20.2620885'), Decimal('104.349223'))   \n",
       "...                                                ...   \n",
       "38749  (Decimal('-23.8494875'), Decimal('-91.561304'))   \n",
       "38750   (Decimal('-7.8876355'), Decimal('155.835880'))   \n",
       "38751  (Decimal('-52.1338005'), Decimal('-59.715325'))   \n",
       "38752  (Decimal('-81.2874995'), Decimal('-28.805800'))   \n",
       "38753     (Decimal('-37.248521'), Decimal('6.033254'))   \n",
       "\n",
       "                                         Job Estado     Renda  ... Ativo07  \\\n",
       "0                           Technical author     TO     63.67  ...  480.72   \n",
       "1                       Biochemist, clinical     DF     21.96  ...  504.17   \n",
       "2      Development worker, international aid     DF  62497.64  ...  523.12   \n",
       "3                  Estate manager/land agent     DF  99878.74  ...  486.05   \n",
       "4        Chartered public finance accountant     MS    188.01  ...  512.98   \n",
       "...                                      ...    ...       ...  ...     ...   \n",
       "38749             Further education lecturer     RS   4993.49  ...  489.76   \n",
       "38750                  Adult guidance worker     PI  41218.63  ...  496.02   \n",
       "38751               Arts development officer     PR     32.41  ...  504.32   \n",
       "38752                     Production manager     RJ    914.52  ...  500.65   \n",
       "38753                 Pension scheme manager     AL  29076.19  ...  507.95   \n",
       "\n",
       "           Nota1      Nota2         Total  Média      Dominio       NPS  \\\n",
       "0      79.600372   9.802620  31234.776561     44    yahoo.com  detrator   \n",
       "1      44.406893  90.512871  33772.586561     67    yahoo.com    neutro   \n",
       "2      44.020024  65.060941  32759.398560     54    yahoo.com    neutro   \n",
       "3      25.597924  86.548918  34092.154845     56  hotmail.com    neutro   \n",
       "4      14.463307  33.566292  50981.210000     24    yahoo.com  detrator   \n",
       "...          ...        ...           ...    ...          ...       ...   \n",
       "38749  66.644257   6.462871  26127.124955     36    gmail.com  detrator   \n",
       "38750  96.987294  72.333030  28532.990000     84  hotmail.com  promotor   \n",
       "38751  32.139610  22.742974  34639.718560     27    yahoo.com  detrator   \n",
       "38752  98.385080  56.611838  32039.903089     77    gmail.com    neutro   \n",
       "38753  29.660050  47.371606  34961.309280     38  hotmail.com  detrator   \n",
       "\n",
       "       Conservador  Moderado  Agressivo  \n",
       "0                1         0          0  \n",
       "1                0         1          0  \n",
       "2                0         1          0  \n",
       "3                0         1          0  \n",
       "4                1         0          0  \n",
       "...            ...       ...        ...  \n",
       "38749            1         0          0  \n",
       "38750            0         0          1  \n",
       "38751            1         0          0  \n",
       "38752            0         1          0  \n",
       "38753            1         0          0  \n",
       "\n",
       "[38754 rows x 27 columns]"
      ]
     },
     "execution_count": 116,
     "metadata": {},
     "output_type": "execute_result"
    }
   ],
   "source": [
    "df_novo2"
   ]
  },
  {
   "cell_type": "markdown",
   "id": "d965f35c",
   "metadata": {},
   "source": [
    "Crie uma tabela com total de investimentos de promotores, detratores e neutros em função do perfil. (dica: use pivot_table)"
   ]
  },
  {
   "cell_type": "code",
   "execution_count": 120,
   "id": "a4ffcc3c",
   "metadata": {},
   "outputs": [
    {
     "data": {
      "text/html": [
       "<div>\n",
       "<style scoped>\n",
       "    .dataframe tbody tr th:only-of-type {\n",
       "        vertical-align: middle;\n",
       "    }\n",
       "\n",
       "    .dataframe tbody tr th {\n",
       "        vertical-align: top;\n",
       "    }\n",
       "\n",
       "    .dataframe thead tr th {\n",
       "        text-align: left;\n",
       "    }\n",
       "\n",
       "    .dataframe thead tr:last-of-type th {\n",
       "        text-align: right;\n",
       "    }\n",
       "</style>\n",
       "<table border=\"1\" class=\"dataframe\">\n",
       "  <thead>\n",
       "    <tr>\n",
       "      <th></th>\n",
       "      <th colspan=\"3\" halign=\"left\">Agressivo</th>\n",
       "      <th colspan=\"3\" halign=\"left\">Conservador</th>\n",
       "      <th colspan=\"3\" halign=\"left\">Moderado</th>\n",
       "    </tr>\n",
       "    <tr>\n",
       "      <th>NPS</th>\n",
       "      <th>detrator</th>\n",
       "      <th>neutro</th>\n",
       "      <th>promotor</th>\n",
       "      <th>detrator</th>\n",
       "      <th>neutro</th>\n",
       "      <th>promotor</th>\n",
       "      <th>detrator</th>\n",
       "      <th>neutro</th>\n",
       "      <th>promotor</th>\n",
       "    </tr>\n",
       "    <tr>\n",
       "      <th>Perfil</th>\n",
       "      <th></th>\n",
       "      <th></th>\n",
       "      <th></th>\n",
       "      <th></th>\n",
       "      <th></th>\n",
       "      <th></th>\n",
       "      <th></th>\n",
       "      <th></th>\n",
       "      <th></th>\n",
       "    </tr>\n",
       "  </thead>\n",
       "  <tbody>\n",
       "    <tr>\n",
       "      <th>Agressivo</th>\n",
       "      <td>0.0</td>\n",
       "      <td>0.0</td>\n",
       "      <td>933.0</td>\n",
       "      <td>6779.0</td>\n",
       "      <td>0.0</td>\n",
       "      <td>0.0</td>\n",
       "      <td>0.0</td>\n",
       "      <td>5263.0</td>\n",
       "      <td>0.0</td>\n",
       "    </tr>\n",
       "    <tr>\n",
       "      <th>Conservador</th>\n",
       "      <td>0.0</td>\n",
       "      <td>0.0</td>\n",
       "      <td>856.0</td>\n",
       "      <td>6863.0</td>\n",
       "      <td>0.0</td>\n",
       "      <td>0.0</td>\n",
       "      <td>0.0</td>\n",
       "      <td>5160.0</td>\n",
       "      <td>0.0</td>\n",
       "    </tr>\n",
       "    <tr>\n",
       "      <th>Moderado</th>\n",
       "      <td>0.0</td>\n",
       "      <td>0.0</td>\n",
       "      <td>914.0</td>\n",
       "      <td>6727.0</td>\n",
       "      <td>0.0</td>\n",
       "      <td>0.0</td>\n",
       "      <td>0.0</td>\n",
       "      <td>5259.0</td>\n",
       "      <td>0.0</td>\n",
       "    </tr>\n",
       "  </tbody>\n",
       "</table>\n",
       "</div>"
      ],
      "text/plain": [
       "            Agressivo                 Conservador                 Moderado  \\\n",
       "NPS          detrator neutro promotor    detrator neutro promotor detrator   \n",
       "Perfil                                                                       \n",
       "Agressivo         0.0    0.0    933.0      6779.0    0.0      0.0      0.0   \n",
       "Conservador       0.0    0.0    856.0      6863.0    0.0      0.0      0.0   \n",
       "Moderado          0.0    0.0    914.0      6727.0    0.0      0.0      0.0   \n",
       "\n",
       "                              \n",
       "NPS          neutro promotor  \n",
       "Perfil                        \n",
       "Agressivo    5263.0      0.0  \n",
       "Conservador  5160.0      0.0  \n",
       "Moderado     5259.0      0.0  "
      ]
     },
     "execution_count": 120,
     "metadata": {},
     "output_type": "execute_result"
    }
   ],
   "source": [
    "import numpy as np\n",
    "pd.pivot_table(df_novo2, index='Perfil', columns='NPS', values=['Conservador', 'Moderado', 'Agressivo'], aggfunc=np.sum)"
   ]
  },
  {
   "cell_type": "code",
   "execution_count": null,
   "id": "30bde00b",
   "metadata": {},
   "outputs": [],
   "source": []
  }
 ],
 "metadata": {
  "kernelspec": {
   "display_name": "Python 3",
   "language": "python",
   "name": "python3"
  },
  "language_info": {
   "codemirror_mode": {
    "name": "ipython",
    "version": 3
   },
   "file_extension": ".py",
   "mimetype": "text/x-python",
   "name": "python",
   "nbconvert_exporter": "python",
   "pygments_lexer": "ipython3",
   "version": "3.8.8"
  }
 },
 "nbformat": 4,
 "nbformat_minor": 5
}
